{
  "nbformat": 4,
  "nbformat_minor": 0,
  "metadata": {
    "colab": {
      "provenance": [],
      "mount_file_id": "1wvyqSmEKU25WRj4xWP2Jc0pd7DVa9N4a",
      "authorship_tag": "ABX9TyMdf7YngBpX7mlf6uwoFTK3",
      "include_colab_link": true
    },
    "kernelspec": {
      "name": "python3",
      "display_name": "Python 3"
    },
    "language_info": {
      "name": "python"
    }
  },
  "cells": [
    {
      "cell_type": "markdown",
      "metadata": {
        "id": "view-in-github",
        "colab_type": "text"
      },
      "source": [
        "<a href=\"https://colab.research.google.com/github/LeisaSousa/Teste/blob/main/Desafio_Probabilidade.ipynb\" target=\"_parent\"><img src=\"https://colab.research.google.com/assets/colab-badge.svg\" alt=\"Open In Colab\"/></a>"
      ]
    },
    {
      "cell_type": "code",
      "source": [
        "!pip install pydataset"
      ],
      "metadata": {
        "colab": {
          "base_uri": "https://localhost:8080/"
        },
        "id": "JKnmc87NQLDW",
        "outputId": "8edabdff-84ed-401c-c0ac-b60c349141b8"
      },
      "execution_count": 76,
      "outputs": [
        {
          "output_type": "stream",
          "name": "stdout",
          "text": [
            "Collecting pydataset\n",
            "  Downloading pydataset-0.2.0.tar.gz (15.9 MB)\n",
            "\u001b[?25l     \u001b[90m━━━━━━━━━━━━━━━━━━━━━━━━━━━━━━━━━━━━━━━━\u001b[0m \u001b[32m0.0/15.9 MB\u001b[0m \u001b[31m?\u001b[0m eta \u001b[36m-:--:--\u001b[0m\r\u001b[2K     \u001b[91m━━━━━━━━━━\u001b[0m\u001b[90m╺\u001b[0m\u001b[90m━━━━━━━━━━━━━━━━━━━━━━━━━━━━━\u001b[0m \u001b[32m4.1/15.9 MB\u001b[0m \u001b[31m123.0 MB/s\u001b[0m eta \u001b[36m0:00:01\u001b[0m\r\u001b[2K     \u001b[91m━━━━━━━━━━━━━━━━━━━━━━━━\u001b[0m\u001b[90m╺\u001b[0m\u001b[90m━━━━━━━━━━━━━━━\u001b[0m \u001b[32m9.6/15.9 MB\u001b[0m \u001b[31m138.1 MB/s\u001b[0m eta \u001b[36m0:00:01\u001b[0m\r\u001b[2K     \u001b[91m━━━━━━━━━━━━━━━━━━━━━━━━━━━━━━━━━━━━━━━\u001b[0m\u001b[91m╸\u001b[0m \u001b[32m15.9/15.9 MB\u001b[0m \u001b[31m174.2 MB/s\u001b[0m eta \u001b[36m0:00:01\u001b[0m\r\u001b[2K     \u001b[91m━━━━━━━━━━━━━━━━━━━━━━━━━━━━━━━━━━━━━━━\u001b[0m\u001b[91m╸\u001b[0m \u001b[32m15.9/15.9 MB\u001b[0m \u001b[31m174.2 MB/s\u001b[0m eta \u001b[36m0:00:01\u001b[0m\r\u001b[2K     \u001b[90m━━━━━━━━━━━━━━━━━━━━━━━━━━━━━━━━━━━━━━━━\u001b[0m \u001b[32m15.9/15.9 MB\u001b[0m \u001b[31m87.9 MB/s\u001b[0m eta \u001b[36m0:00:00\u001b[0m\n",
            "\u001b[?25h  Preparing metadata (setup.py) ... \u001b[?25l\u001b[?25hdone\n",
            "Requirement already satisfied: pandas in /usr/local/lib/python3.10/dist-packages (from pydataset) (2.1.4)\n",
            "Requirement already satisfied: numpy<2,>=1.22.4 in /usr/local/lib/python3.10/dist-packages (from pandas->pydataset) (1.26.4)\n",
            "Requirement already satisfied: python-dateutil>=2.8.2 in /usr/local/lib/python3.10/dist-packages (from pandas->pydataset) (2.8.2)\n",
            "Requirement already satisfied: pytz>=2020.1 in /usr/local/lib/python3.10/dist-packages (from pandas->pydataset) (2024.2)\n",
            "Requirement already satisfied: tzdata>=2022.1 in /usr/local/lib/python3.10/dist-packages (from pandas->pydataset) (2024.1)\n",
            "Requirement already satisfied: six>=1.5 in /usr/local/lib/python3.10/dist-packages (from python-dateutil>=2.8.2->pandas->pydataset) (1.16.0)\n",
            "Building wheels for collected packages: pydataset\n",
            "  Building wheel for pydataset (setup.py) ... \u001b[?25l\u001b[?25hdone\n",
            "  Created wheel for pydataset: filename=pydataset-0.2.0-py3-none-any.whl size=15939416 sha256=1cafa1b220edc8522600843e315f49f8e4e095a997f7647da940d303ed4bcbc9\n",
            "  Stored in directory: /root/.cache/pip/wheels/2b/83/5c/073c3755e8b7704e4677557b2055e61026c1a2342149214c13\n",
            "Successfully built pydataset\n",
            "Installing collected packages: pydataset\n",
            "Successfully installed pydataset-0.2.0\n"
          ]
        }
      ]
    },
    {
      "cell_type": "code",
      "source": [
        "#Importando bibliotecas\n",
        "import pandas as pd\n",
        "import numpy as np\n",
        "import seaborn as sns\n",
        "import matplotlib.pyplot as plt\n",
        "import scipy.stats as stat\n",
        "import json as json\n",
        "from scipy.stats import norm"
      ],
      "metadata": {
        "id": "-lGJLZiFwaiU"
      },
      "execution_count": 178,
      "outputs": []
    },
    {
      "cell_type": "code",
      "source": [
        " df = pd.read_csv(\"/content/populacao_brasileira.csv\")"
      ],
      "metadata": {
        "id": "R7-1pobnUPZZ"
      },
      "execution_count": 98,
      "outputs": []
    },
    {
      "cell_type": "code",
      "source": [
        "df.head(5)"
      ],
      "metadata": {
        "colab": {
          "base_uri": "https://localhost:8080/",
          "height": 206
        },
        "id": "3UaRQt_QCek7",
        "outputId": "05add8f5-9275-48be-abf6-f118a6bac802"
      },
      "execution_count": 99,
      "outputs": [
        {
          "output_type": "execute_result",
          "data": {
            "text/plain": [
              "   Unnamed: 0 estado  idade escolaridade nível de proficiência em inglês    renda sexo\n",
              "0           0     MA     56  Fundamental                   Intermediário  4006.29    F\n",
              "1           1     BA     46     Superior                          Básico  2423.11    M\n",
              "2           2     AM     32  Fundamental                   Intermediário  3835.69    M\n",
              "3           3     CE     60     Superior                          Básico  1870.29    M\n",
              "4           4     SE     25  Fundamental                        Avançado  3529.80    M"
            ],
            "text/html": [
              "\n",
              "  <div id=\"df-377b5435-32ae-4409-9823-90433099998a\" class=\"colab-df-container\">\n",
              "    <div>\n",
              "<style scoped>\n",
              "    .dataframe tbody tr th:only-of-type {\n",
              "        vertical-align: middle;\n",
              "    }\n",
              "\n",
              "    .dataframe tbody tr th {\n",
              "        vertical-align: top;\n",
              "    }\n",
              "\n",
              "    .dataframe thead th {\n",
              "        text-align: right;\n",
              "    }\n",
              "</style>\n",
              "<table border=\"1\" class=\"dataframe\">\n",
              "  <thead>\n",
              "    <tr style=\"text-align: right;\">\n",
              "      <th></th>\n",
              "      <th>Unnamed: 0</th>\n",
              "      <th>estado</th>\n",
              "      <th>idade</th>\n",
              "      <th>escolaridade</th>\n",
              "      <th>nível de proficiência em inglês</th>\n",
              "      <th>renda</th>\n",
              "      <th>sexo</th>\n",
              "    </tr>\n",
              "  </thead>\n",
              "  <tbody>\n",
              "    <tr>\n",
              "      <th>0</th>\n",
              "      <td>0</td>\n",
              "      <td>MA</td>\n",
              "      <td>56</td>\n",
              "      <td>Fundamental</td>\n",
              "      <td>Intermediário</td>\n",
              "      <td>4006.29</td>\n",
              "      <td>F</td>\n",
              "    </tr>\n",
              "    <tr>\n",
              "      <th>1</th>\n",
              "      <td>1</td>\n",
              "      <td>BA</td>\n",
              "      <td>46</td>\n",
              "      <td>Superior</td>\n",
              "      <td>Básico</td>\n",
              "      <td>2423.11</td>\n",
              "      <td>M</td>\n",
              "    </tr>\n",
              "    <tr>\n",
              "      <th>2</th>\n",
              "      <td>2</td>\n",
              "      <td>AM</td>\n",
              "      <td>32</td>\n",
              "      <td>Fundamental</td>\n",
              "      <td>Intermediário</td>\n",
              "      <td>3835.69</td>\n",
              "      <td>M</td>\n",
              "    </tr>\n",
              "    <tr>\n",
              "      <th>3</th>\n",
              "      <td>3</td>\n",
              "      <td>CE</td>\n",
              "      <td>60</td>\n",
              "      <td>Superior</td>\n",
              "      <td>Básico</td>\n",
              "      <td>1870.29</td>\n",
              "      <td>M</td>\n",
              "    </tr>\n",
              "    <tr>\n",
              "      <th>4</th>\n",
              "      <td>4</td>\n",
              "      <td>SE</td>\n",
              "      <td>25</td>\n",
              "      <td>Fundamental</td>\n",
              "      <td>Avançado</td>\n",
              "      <td>3529.80</td>\n",
              "      <td>M</td>\n",
              "    </tr>\n",
              "  </tbody>\n",
              "</table>\n",
              "</div>\n",
              "    <div class=\"colab-df-buttons\">\n",
              "\n",
              "  <div class=\"colab-df-container\">\n",
              "    <button class=\"colab-df-convert\" onclick=\"convertToInteractive('df-377b5435-32ae-4409-9823-90433099998a')\"\n",
              "            title=\"Convert this dataframe to an interactive table.\"\n",
              "            style=\"display:none;\">\n",
              "\n",
              "  <svg xmlns=\"http://www.w3.org/2000/svg\" height=\"24px\" viewBox=\"0 -960 960 960\">\n",
              "    <path d=\"M120-120v-720h720v720H120Zm60-500h600v-160H180v160Zm220 220h160v-160H400v160Zm0 220h160v-160H400v160ZM180-400h160v-160H180v160Zm440 0h160v-160H620v160ZM180-180h160v-160H180v160Zm440 0h160v-160H620v160Z\"/>\n",
              "  </svg>\n",
              "    </button>\n",
              "\n",
              "  <style>\n",
              "    .colab-df-container {\n",
              "      display:flex;\n",
              "      gap: 12px;\n",
              "    }\n",
              "\n",
              "    .colab-df-convert {\n",
              "      background-color: #E8F0FE;\n",
              "      border: none;\n",
              "      border-radius: 50%;\n",
              "      cursor: pointer;\n",
              "      display: none;\n",
              "      fill: #1967D2;\n",
              "      height: 32px;\n",
              "      padding: 0 0 0 0;\n",
              "      width: 32px;\n",
              "    }\n",
              "\n",
              "    .colab-df-convert:hover {\n",
              "      background-color: #E2EBFA;\n",
              "      box-shadow: 0px 1px 2px rgba(60, 64, 67, 0.3), 0px 1px 3px 1px rgba(60, 64, 67, 0.15);\n",
              "      fill: #174EA6;\n",
              "    }\n",
              "\n",
              "    .colab-df-buttons div {\n",
              "      margin-bottom: 4px;\n",
              "    }\n",
              "\n",
              "    [theme=dark] .colab-df-convert {\n",
              "      background-color: #3B4455;\n",
              "      fill: #D2E3FC;\n",
              "    }\n",
              "\n",
              "    [theme=dark] .colab-df-convert:hover {\n",
              "      background-color: #434B5C;\n",
              "      box-shadow: 0px 1px 3px 1px rgba(0, 0, 0, 0.15);\n",
              "      filter: drop-shadow(0px 1px 2px rgba(0, 0, 0, 0.3));\n",
              "      fill: #FFFFFF;\n",
              "    }\n",
              "  </style>\n",
              "\n",
              "    <script>\n",
              "      const buttonEl =\n",
              "        document.querySelector('#df-377b5435-32ae-4409-9823-90433099998a button.colab-df-convert');\n",
              "      buttonEl.style.display =\n",
              "        google.colab.kernel.accessAllowed ? 'block' : 'none';\n",
              "\n",
              "      async function convertToInteractive(key) {\n",
              "        const element = document.querySelector('#df-377b5435-32ae-4409-9823-90433099998a');\n",
              "        const dataTable =\n",
              "          await google.colab.kernel.invokeFunction('convertToInteractive',\n",
              "                                                    [key], {});\n",
              "        if (!dataTable) return;\n",
              "\n",
              "        const docLinkHtml = 'Like what you see? Visit the ' +\n",
              "          '<a target=\"_blank\" href=https://colab.research.google.com/notebooks/data_table.ipynb>data table notebook</a>'\n",
              "          + ' to learn more about interactive tables.';\n",
              "        element.innerHTML = '';\n",
              "        dataTable['output_type'] = 'display_data';\n",
              "        await google.colab.output.renderOutput(dataTable, element);\n",
              "        const docLink = document.createElement('div');\n",
              "        docLink.innerHTML = docLinkHtml;\n",
              "        element.appendChild(docLink);\n",
              "      }\n",
              "    </script>\n",
              "  </div>\n",
              "\n",
              "\n",
              "<div id=\"df-08526bb1-c258-422d-aac4-45a4a40d09f0\">\n",
              "  <button class=\"colab-df-quickchart\" onclick=\"quickchart('df-08526bb1-c258-422d-aac4-45a4a40d09f0')\"\n",
              "            title=\"Suggest charts\"\n",
              "            style=\"display:none;\">\n",
              "\n",
              "<svg xmlns=\"http://www.w3.org/2000/svg\" height=\"24px\"viewBox=\"0 0 24 24\"\n",
              "     width=\"24px\">\n",
              "    <g>\n",
              "        <path d=\"M19 3H5c-1.1 0-2 .9-2 2v14c0 1.1.9 2 2 2h14c1.1 0 2-.9 2-2V5c0-1.1-.9-2-2-2zM9 17H7v-7h2v7zm4 0h-2V7h2v10zm4 0h-2v-4h2v4z\"/>\n",
              "    </g>\n",
              "</svg>\n",
              "  </button>\n",
              "\n",
              "<style>\n",
              "  .colab-df-quickchart {\n",
              "      --bg-color: #E8F0FE;\n",
              "      --fill-color: #1967D2;\n",
              "      --hover-bg-color: #E2EBFA;\n",
              "      --hover-fill-color: #174EA6;\n",
              "      --disabled-fill-color: #AAA;\n",
              "      --disabled-bg-color: #DDD;\n",
              "  }\n",
              "\n",
              "  [theme=dark] .colab-df-quickchart {\n",
              "      --bg-color: #3B4455;\n",
              "      --fill-color: #D2E3FC;\n",
              "      --hover-bg-color: #434B5C;\n",
              "      --hover-fill-color: #FFFFFF;\n",
              "      --disabled-bg-color: #3B4455;\n",
              "      --disabled-fill-color: #666;\n",
              "  }\n",
              "\n",
              "  .colab-df-quickchart {\n",
              "    background-color: var(--bg-color);\n",
              "    border: none;\n",
              "    border-radius: 50%;\n",
              "    cursor: pointer;\n",
              "    display: none;\n",
              "    fill: var(--fill-color);\n",
              "    height: 32px;\n",
              "    padding: 0;\n",
              "    width: 32px;\n",
              "  }\n",
              "\n",
              "  .colab-df-quickchart:hover {\n",
              "    background-color: var(--hover-bg-color);\n",
              "    box-shadow: 0 1px 2px rgba(60, 64, 67, 0.3), 0 1px 3px 1px rgba(60, 64, 67, 0.15);\n",
              "    fill: var(--button-hover-fill-color);\n",
              "  }\n",
              "\n",
              "  .colab-df-quickchart-complete:disabled,\n",
              "  .colab-df-quickchart-complete:disabled:hover {\n",
              "    background-color: var(--disabled-bg-color);\n",
              "    fill: var(--disabled-fill-color);\n",
              "    box-shadow: none;\n",
              "  }\n",
              "\n",
              "  .colab-df-spinner {\n",
              "    border: 2px solid var(--fill-color);\n",
              "    border-color: transparent;\n",
              "    border-bottom-color: var(--fill-color);\n",
              "    animation:\n",
              "      spin 1s steps(1) infinite;\n",
              "  }\n",
              "\n",
              "  @keyframes spin {\n",
              "    0% {\n",
              "      border-color: transparent;\n",
              "      border-bottom-color: var(--fill-color);\n",
              "      border-left-color: var(--fill-color);\n",
              "    }\n",
              "    20% {\n",
              "      border-color: transparent;\n",
              "      border-left-color: var(--fill-color);\n",
              "      border-top-color: var(--fill-color);\n",
              "    }\n",
              "    30% {\n",
              "      border-color: transparent;\n",
              "      border-left-color: var(--fill-color);\n",
              "      border-top-color: var(--fill-color);\n",
              "      border-right-color: var(--fill-color);\n",
              "    }\n",
              "    40% {\n",
              "      border-color: transparent;\n",
              "      border-right-color: var(--fill-color);\n",
              "      border-top-color: var(--fill-color);\n",
              "    }\n",
              "    60% {\n",
              "      border-color: transparent;\n",
              "      border-right-color: var(--fill-color);\n",
              "    }\n",
              "    80% {\n",
              "      border-color: transparent;\n",
              "      border-right-color: var(--fill-color);\n",
              "      border-bottom-color: var(--fill-color);\n",
              "    }\n",
              "    90% {\n",
              "      border-color: transparent;\n",
              "      border-bottom-color: var(--fill-color);\n",
              "    }\n",
              "  }\n",
              "</style>\n",
              "\n",
              "  <script>\n",
              "    async function quickchart(key) {\n",
              "      const quickchartButtonEl =\n",
              "        document.querySelector('#' + key + ' button');\n",
              "      quickchartButtonEl.disabled = true;  // To prevent multiple clicks.\n",
              "      quickchartButtonEl.classList.add('colab-df-spinner');\n",
              "      try {\n",
              "        const charts = await google.colab.kernel.invokeFunction(\n",
              "            'suggestCharts', [key], {});\n",
              "      } catch (error) {\n",
              "        console.error('Error during call to suggestCharts:', error);\n",
              "      }\n",
              "      quickchartButtonEl.classList.remove('colab-df-spinner');\n",
              "      quickchartButtonEl.classList.add('colab-df-quickchart-complete');\n",
              "    }\n",
              "    (() => {\n",
              "      let quickchartButtonEl =\n",
              "        document.querySelector('#df-08526bb1-c258-422d-aac4-45a4a40d09f0 button');\n",
              "      quickchartButtonEl.style.display =\n",
              "        google.colab.kernel.accessAllowed ? 'block' : 'none';\n",
              "    })();\n",
              "  </script>\n",
              "</div>\n",
              "\n",
              "    </div>\n",
              "  </div>\n"
            ],
            "application/vnd.google.colaboratory.intrinsic+json": {
              "type": "dataframe",
              "variable_name": "df",
              "summary": "{\n  \"name\": \"df\",\n  \"rows\": 1000,\n  \"fields\": [\n    {\n      \"column\": \"Unnamed: 0\",\n      \"properties\": {\n        \"dtype\": \"number\",\n        \"std\": 288,\n        \"min\": 0,\n        \"max\": 999,\n        \"num_unique_values\": 1000,\n        \"samples\": [\n          521,\n          737,\n          740\n        ],\n        \"semantic_type\": \"\",\n        \"description\": \"\"\n      }\n    },\n    {\n      \"column\": \"estado\",\n      \"properties\": {\n        \"dtype\": \"category\",\n        \"num_unique_values\": 27,\n        \"samples\": [\n          \"AC\",\n          \"PA\",\n          \"SC\"\n        ],\n        \"semantic_type\": \"\",\n        \"description\": \"\"\n      }\n    },\n    {\n      \"column\": \"idade\",\n      \"properties\": {\n        \"dtype\": \"number\",\n        \"std\": 13,\n        \"min\": 18,\n        \"max\": 64,\n        \"num_unique_values\": 47,\n        \"samples\": [\n          24,\n          48,\n          54\n        ],\n        \"semantic_type\": \"\",\n        \"description\": \"\"\n      }\n    },\n    {\n      \"column\": \"escolaridade\",\n      \"properties\": {\n        \"dtype\": \"category\",\n        \"num_unique_values\": 4,\n        \"samples\": [\n          \"Superior\",\n          \"P\\u00f3s-gradua\\u00e7\\u00e3o\",\n          \"Fundamental\"\n        ],\n        \"semantic_type\": \"\",\n        \"description\": \"\"\n      }\n    },\n    {\n      \"column\": \"n\\u00edvel de profici\\u00eancia em ingl\\u00eas\",\n      \"properties\": {\n        \"dtype\": \"category\",\n        \"num_unique_values\": 3,\n        \"samples\": [\n          \"Intermedi\\u00e1rio\",\n          \"B\\u00e1sico\",\n          \"Avan\\u00e7ado\"\n        ],\n        \"semantic_type\": \"\",\n        \"description\": \"\"\n      }\n    },\n    {\n      \"column\": \"renda\",\n      \"properties\": {\n        \"dtype\": \"number\",\n        \"std\": 996.572239312141,\n        \"min\": 103.74,\n        \"max\": 5632.38,\n        \"num_unique_values\": 998,\n        \"samples\": [\n          2752.82,\n          4218.76,\n          2244.62\n        ],\n        \"semantic_type\": \"\",\n        \"description\": \"\"\n      }\n    },\n    {\n      \"column\": \"sexo\",\n      \"properties\": {\n        \"dtype\": \"category\",\n        \"num_unique_values\": 2,\n        \"samples\": [\n          \"M\",\n          \"F\"\n        ],\n        \"semantic_type\": \"\",\n        \"description\": \"\"\n      }\n    }\n  ]\n}"
            }
          },
          "metadata": {},
          "execution_count": 99
        }
      ]
    },
    {
      "cell_type": "code",
      "source": [
        "df.describe()"
      ],
      "metadata": {
        "colab": {
          "base_uri": "https://localhost:8080/",
          "height": 300
        },
        "id": "sdKHOq4_WTRb",
        "outputId": "452bd93f-cead-4e5d-970e-2fa168997469"
      },
      "execution_count": 100,
      "outputs": [
        {
          "output_type": "execute_result",
          "data": {
            "text/plain": [
              "        Unnamed: 0        idade        renda\n",
              "count  1000.000000  1000.000000  1000.000000\n",
              "mean    499.500000    40.986000  3082.537180\n",
              "std     288.819436    13.497852   996.572239\n",
              "min       0.000000    18.000000   103.740000\n",
              "25%     249.750000    29.000000  2425.815000\n",
              "50%     499.500000    42.000000  3076.415000\n",
              "75%     749.250000    52.000000  3714.487500\n",
              "max     999.000000    64.000000  5632.380000"
            ],
            "text/html": [
              "\n",
              "  <div id=\"df-03c9a49b-2458-40ee-9817-23c62052fe6d\" class=\"colab-df-container\">\n",
              "    <div>\n",
              "<style scoped>\n",
              "    .dataframe tbody tr th:only-of-type {\n",
              "        vertical-align: middle;\n",
              "    }\n",
              "\n",
              "    .dataframe tbody tr th {\n",
              "        vertical-align: top;\n",
              "    }\n",
              "\n",
              "    .dataframe thead th {\n",
              "        text-align: right;\n",
              "    }\n",
              "</style>\n",
              "<table border=\"1\" class=\"dataframe\">\n",
              "  <thead>\n",
              "    <tr style=\"text-align: right;\">\n",
              "      <th></th>\n",
              "      <th>Unnamed: 0</th>\n",
              "      <th>idade</th>\n",
              "      <th>renda</th>\n",
              "    </tr>\n",
              "  </thead>\n",
              "  <tbody>\n",
              "    <tr>\n",
              "      <th>count</th>\n",
              "      <td>1000.000000</td>\n",
              "      <td>1000.000000</td>\n",
              "      <td>1000.000000</td>\n",
              "    </tr>\n",
              "    <tr>\n",
              "      <th>mean</th>\n",
              "      <td>499.500000</td>\n",
              "      <td>40.986000</td>\n",
              "      <td>3082.537180</td>\n",
              "    </tr>\n",
              "    <tr>\n",
              "      <th>std</th>\n",
              "      <td>288.819436</td>\n",
              "      <td>13.497852</td>\n",
              "      <td>996.572239</td>\n",
              "    </tr>\n",
              "    <tr>\n",
              "      <th>min</th>\n",
              "      <td>0.000000</td>\n",
              "      <td>18.000000</td>\n",
              "      <td>103.740000</td>\n",
              "    </tr>\n",
              "    <tr>\n",
              "      <th>25%</th>\n",
              "      <td>249.750000</td>\n",
              "      <td>29.000000</td>\n",
              "      <td>2425.815000</td>\n",
              "    </tr>\n",
              "    <tr>\n",
              "      <th>50%</th>\n",
              "      <td>499.500000</td>\n",
              "      <td>42.000000</td>\n",
              "      <td>3076.415000</td>\n",
              "    </tr>\n",
              "    <tr>\n",
              "      <th>75%</th>\n",
              "      <td>749.250000</td>\n",
              "      <td>52.000000</td>\n",
              "      <td>3714.487500</td>\n",
              "    </tr>\n",
              "    <tr>\n",
              "      <th>max</th>\n",
              "      <td>999.000000</td>\n",
              "      <td>64.000000</td>\n",
              "      <td>5632.380000</td>\n",
              "    </tr>\n",
              "  </tbody>\n",
              "</table>\n",
              "</div>\n",
              "    <div class=\"colab-df-buttons\">\n",
              "\n",
              "  <div class=\"colab-df-container\">\n",
              "    <button class=\"colab-df-convert\" onclick=\"convertToInteractive('df-03c9a49b-2458-40ee-9817-23c62052fe6d')\"\n",
              "            title=\"Convert this dataframe to an interactive table.\"\n",
              "            style=\"display:none;\">\n",
              "\n",
              "  <svg xmlns=\"http://www.w3.org/2000/svg\" height=\"24px\" viewBox=\"0 -960 960 960\">\n",
              "    <path d=\"M120-120v-720h720v720H120Zm60-500h600v-160H180v160Zm220 220h160v-160H400v160Zm0 220h160v-160H400v160ZM180-400h160v-160H180v160Zm440 0h160v-160H620v160ZM180-180h160v-160H180v160Zm440 0h160v-160H620v160Z\"/>\n",
              "  </svg>\n",
              "    </button>\n",
              "\n",
              "  <style>\n",
              "    .colab-df-container {\n",
              "      display:flex;\n",
              "      gap: 12px;\n",
              "    }\n",
              "\n",
              "    .colab-df-convert {\n",
              "      background-color: #E8F0FE;\n",
              "      border: none;\n",
              "      border-radius: 50%;\n",
              "      cursor: pointer;\n",
              "      display: none;\n",
              "      fill: #1967D2;\n",
              "      height: 32px;\n",
              "      padding: 0 0 0 0;\n",
              "      width: 32px;\n",
              "    }\n",
              "\n",
              "    .colab-df-convert:hover {\n",
              "      background-color: #E2EBFA;\n",
              "      box-shadow: 0px 1px 2px rgba(60, 64, 67, 0.3), 0px 1px 3px 1px rgba(60, 64, 67, 0.15);\n",
              "      fill: #174EA6;\n",
              "    }\n",
              "\n",
              "    .colab-df-buttons div {\n",
              "      margin-bottom: 4px;\n",
              "    }\n",
              "\n",
              "    [theme=dark] .colab-df-convert {\n",
              "      background-color: #3B4455;\n",
              "      fill: #D2E3FC;\n",
              "    }\n",
              "\n",
              "    [theme=dark] .colab-df-convert:hover {\n",
              "      background-color: #434B5C;\n",
              "      box-shadow: 0px 1px 3px 1px rgba(0, 0, 0, 0.15);\n",
              "      filter: drop-shadow(0px 1px 2px rgba(0, 0, 0, 0.3));\n",
              "      fill: #FFFFFF;\n",
              "    }\n",
              "  </style>\n",
              "\n",
              "    <script>\n",
              "      const buttonEl =\n",
              "        document.querySelector('#df-03c9a49b-2458-40ee-9817-23c62052fe6d button.colab-df-convert');\n",
              "      buttonEl.style.display =\n",
              "        google.colab.kernel.accessAllowed ? 'block' : 'none';\n",
              "\n",
              "      async function convertToInteractive(key) {\n",
              "        const element = document.querySelector('#df-03c9a49b-2458-40ee-9817-23c62052fe6d');\n",
              "        const dataTable =\n",
              "          await google.colab.kernel.invokeFunction('convertToInteractive',\n",
              "                                                    [key], {});\n",
              "        if (!dataTable) return;\n",
              "\n",
              "        const docLinkHtml = 'Like what you see? Visit the ' +\n",
              "          '<a target=\"_blank\" href=https://colab.research.google.com/notebooks/data_table.ipynb>data table notebook</a>'\n",
              "          + ' to learn more about interactive tables.';\n",
              "        element.innerHTML = '';\n",
              "        dataTable['output_type'] = 'display_data';\n",
              "        await google.colab.output.renderOutput(dataTable, element);\n",
              "        const docLink = document.createElement('div');\n",
              "        docLink.innerHTML = docLinkHtml;\n",
              "        element.appendChild(docLink);\n",
              "      }\n",
              "    </script>\n",
              "  </div>\n",
              "\n",
              "\n",
              "<div id=\"df-509e1209-b23c-4b95-8cfe-8a95bd207874\">\n",
              "  <button class=\"colab-df-quickchart\" onclick=\"quickchart('df-509e1209-b23c-4b95-8cfe-8a95bd207874')\"\n",
              "            title=\"Suggest charts\"\n",
              "            style=\"display:none;\">\n",
              "\n",
              "<svg xmlns=\"http://www.w3.org/2000/svg\" height=\"24px\"viewBox=\"0 0 24 24\"\n",
              "     width=\"24px\">\n",
              "    <g>\n",
              "        <path d=\"M19 3H5c-1.1 0-2 .9-2 2v14c0 1.1.9 2 2 2h14c1.1 0 2-.9 2-2V5c0-1.1-.9-2-2-2zM9 17H7v-7h2v7zm4 0h-2V7h2v10zm4 0h-2v-4h2v4z\"/>\n",
              "    </g>\n",
              "</svg>\n",
              "  </button>\n",
              "\n",
              "<style>\n",
              "  .colab-df-quickchart {\n",
              "      --bg-color: #E8F0FE;\n",
              "      --fill-color: #1967D2;\n",
              "      --hover-bg-color: #E2EBFA;\n",
              "      --hover-fill-color: #174EA6;\n",
              "      --disabled-fill-color: #AAA;\n",
              "      --disabled-bg-color: #DDD;\n",
              "  }\n",
              "\n",
              "  [theme=dark] .colab-df-quickchart {\n",
              "      --bg-color: #3B4455;\n",
              "      --fill-color: #D2E3FC;\n",
              "      --hover-bg-color: #434B5C;\n",
              "      --hover-fill-color: #FFFFFF;\n",
              "      --disabled-bg-color: #3B4455;\n",
              "      --disabled-fill-color: #666;\n",
              "  }\n",
              "\n",
              "  .colab-df-quickchart {\n",
              "    background-color: var(--bg-color);\n",
              "    border: none;\n",
              "    border-radius: 50%;\n",
              "    cursor: pointer;\n",
              "    display: none;\n",
              "    fill: var(--fill-color);\n",
              "    height: 32px;\n",
              "    padding: 0;\n",
              "    width: 32px;\n",
              "  }\n",
              "\n",
              "  .colab-df-quickchart:hover {\n",
              "    background-color: var(--hover-bg-color);\n",
              "    box-shadow: 0 1px 2px rgba(60, 64, 67, 0.3), 0 1px 3px 1px rgba(60, 64, 67, 0.15);\n",
              "    fill: var(--button-hover-fill-color);\n",
              "  }\n",
              "\n",
              "  .colab-df-quickchart-complete:disabled,\n",
              "  .colab-df-quickchart-complete:disabled:hover {\n",
              "    background-color: var(--disabled-bg-color);\n",
              "    fill: var(--disabled-fill-color);\n",
              "    box-shadow: none;\n",
              "  }\n",
              "\n",
              "  .colab-df-spinner {\n",
              "    border: 2px solid var(--fill-color);\n",
              "    border-color: transparent;\n",
              "    border-bottom-color: var(--fill-color);\n",
              "    animation:\n",
              "      spin 1s steps(1) infinite;\n",
              "  }\n",
              "\n",
              "  @keyframes spin {\n",
              "    0% {\n",
              "      border-color: transparent;\n",
              "      border-bottom-color: var(--fill-color);\n",
              "      border-left-color: var(--fill-color);\n",
              "    }\n",
              "    20% {\n",
              "      border-color: transparent;\n",
              "      border-left-color: var(--fill-color);\n",
              "      border-top-color: var(--fill-color);\n",
              "    }\n",
              "    30% {\n",
              "      border-color: transparent;\n",
              "      border-left-color: var(--fill-color);\n",
              "      border-top-color: var(--fill-color);\n",
              "      border-right-color: var(--fill-color);\n",
              "    }\n",
              "    40% {\n",
              "      border-color: transparent;\n",
              "      border-right-color: var(--fill-color);\n",
              "      border-top-color: var(--fill-color);\n",
              "    }\n",
              "    60% {\n",
              "      border-color: transparent;\n",
              "      border-right-color: var(--fill-color);\n",
              "    }\n",
              "    80% {\n",
              "      border-color: transparent;\n",
              "      border-right-color: var(--fill-color);\n",
              "      border-bottom-color: var(--fill-color);\n",
              "    }\n",
              "    90% {\n",
              "      border-color: transparent;\n",
              "      border-bottom-color: var(--fill-color);\n",
              "    }\n",
              "  }\n",
              "</style>\n",
              "\n",
              "  <script>\n",
              "    async function quickchart(key) {\n",
              "      const quickchartButtonEl =\n",
              "        document.querySelector('#' + key + ' button');\n",
              "      quickchartButtonEl.disabled = true;  // To prevent multiple clicks.\n",
              "      quickchartButtonEl.classList.add('colab-df-spinner');\n",
              "      try {\n",
              "        const charts = await google.colab.kernel.invokeFunction(\n",
              "            'suggestCharts', [key], {});\n",
              "      } catch (error) {\n",
              "        console.error('Error during call to suggestCharts:', error);\n",
              "      }\n",
              "      quickchartButtonEl.classList.remove('colab-df-spinner');\n",
              "      quickchartButtonEl.classList.add('colab-df-quickchart-complete');\n",
              "    }\n",
              "    (() => {\n",
              "      let quickchartButtonEl =\n",
              "        document.querySelector('#df-509e1209-b23c-4b95-8cfe-8a95bd207874 button');\n",
              "      quickchartButtonEl.style.display =\n",
              "        google.colab.kernel.accessAllowed ? 'block' : 'none';\n",
              "    })();\n",
              "  </script>\n",
              "</div>\n",
              "\n",
              "    </div>\n",
              "  </div>\n"
            ],
            "application/vnd.google.colaboratory.intrinsic+json": {
              "type": "dataframe",
              "summary": "{\n  \"name\": \"df\",\n  \"rows\": 8,\n  \"fields\": [\n    {\n      \"column\": \"Unnamed: 0\",\n      \"properties\": {\n        \"dtype\": \"number\",\n        \"std\": 360.1860157939537,\n        \"min\": 0.0,\n        \"max\": 1000.0,\n        \"num_unique_values\": 7,\n        \"samples\": [\n          1000.0,\n          499.5,\n          749.25\n        ],\n        \"semantic_type\": \"\",\n        \"description\": \"\"\n      }\n    },\n    {\n      \"column\": \"idade\",\n      \"properties\": {\n        \"dtype\": \"number\",\n        \"std\": 340.86101014470347,\n        \"min\": 13.497851532595696,\n        \"max\": 1000.0,\n        \"num_unique_values\": 8,\n        \"samples\": [\n          40.986,\n          42.0,\n          1000.0\n        ],\n        \"semantic_type\": \"\",\n        \"description\": \"\"\n      }\n    },\n    {\n      \"column\": \"renda\",\n      \"properties\": {\n        \"dtype\": \"number\",\n        \"std\": 1781.4970040505991,\n        \"min\": 103.74,\n        \"max\": 5632.38,\n        \"num_unique_values\": 8,\n        \"samples\": [\n          3082.5371800000003,\n          3076.415,\n          1000.0\n        ],\n        \"semantic_type\": \"\",\n        \"description\": \"\"\n      }\n    }\n  ]\n}"
            }
          },
          "metadata": {},
          "execution_count": 100
        }
      ]
    },
    {
      "cell_type": "markdown",
      "source": [
        "1-**Considere pessoas fluentes em inglês, qual a probabilidade complementar? Ou seja, qual a probabilidade de escolhermos uma pessoa aleatória e ela não ser fluente em inglês. Considere fluente quem tem o nível avançado.**"
      ],
      "metadata": {
        "id": "VmRjZhtQVvbE"
      }
    },
    {
      "cell_type": "code",
      "source": [
        "# Verifique os valores únicos na coluna de nível de inglês\n",
        "print(df['nível de proficiência em inglês'].unique())"
      ],
      "metadata": {
        "colab": {
          "base_uri": "https://localhost:8080/"
        },
        "id": "QlbO4clzPohT",
        "outputId": "d4f5d0b8-00d0-4d0c-ebda-621312a9d4e4"
      },
      "execution_count": 101,
      "outputs": [
        {
          "output_type": "stream",
          "name": "stdout",
          "text": [
            "['Intermediário' 'Básico' 'Avançado']\n"
          ]
        }
      ]
    },
    {
      "cell_type": "code",
      "source": [
        "# Contar o total de pessoas\n",
        "total_pessoas = len(df)\n",
        "\n",
        "# Contar o número de pessoas fluentes (avançado)\n",
        "num_fluentes = df[df['nível de proficiência em inglês'] == 'Avançado'].shape[0]\n",
        "\n",
        "# Calcular a probabilidade de ser fluente\n",
        "probabilidade_fluente = num_fluentes / total_pessoas\n",
        "\n",
        "# Calcular a probabilidade complementar\n",
        "probabilidade_nao_fluente = 1 - probabilidade_fluente\n",
        "\n",
        "# Exibir o resultado\n",
        "print(f\"A probabilidade de uma pessoa não ser fluente em inglês é: {probabilidade_nao_fluente:.2f}\")"
      ],
      "metadata": {
        "colab": {
          "base_uri": "https://localhost:8080/"
        },
        "id": "ejzVg-GYenFg",
        "outputId": "25bdd0d7-6b2a-4fe3-80fe-b1e94193731d"
      },
      "execution_count": 109,
      "outputs": [
        {
          "output_type": "stream",
          "name": "stdout",
          "text": [
            "A probabilidade de uma pessoa não ser fluente em inglês é: 0.66\n"
          ]
        }
      ]
    },
    {
      "cell_type": "markdown",
      "source": [
        "**2-Se uma pessoa escolhida aleatoriamente for de Alagoas ou do Pará, qual é a probabilidade de ela ter uma renda superior a 5 mil reais?**"
      ],
      "metadata": {
        "id": "04oeIClBh56h"
      }
    },
    {
      "cell_type": "code",
      "source": [
        "print(df['estado'].unique())"
      ],
      "metadata": {
        "colab": {
          "base_uri": "https://localhost:8080/"
        },
        "id": "FF3mM0_ZiEjB",
        "outputId": "29764863-fce4-455c-ed65-27f68047dacc"
      },
      "execution_count": 112,
      "outputs": [
        {
          "output_type": "stream",
          "name": "stdout",
          "text": [
            "['MA' 'BA' 'AM' 'CE' 'SE' 'DF' 'PI' 'AP' 'AC' 'SC' 'SP' 'GO' 'RO' 'PA'\n",
            " 'MS' 'RN' 'RS' 'RR' 'PR' 'MG' 'MT' 'TO' 'PB' 'PE' 'RJ' 'AL' 'ES']\n"
          ]
        }
      ]
    },
    {
      "cell_type": "code",
      "source": [
        "estados = ['AL', 'PA']\n",
        "df_filtrado = df[df['estado'].isin(estados)]\n",
        "\n",
        "# Contar o número total de pessoas nos estados de interesse\n",
        "total_pessoas_estados = len(df_filtrado)\n",
        "\n",
        "# Filtrar para pessoas com renda > a 5 mil\n",
        "df_renda_alta = df_filtrado[df_filtrado['renda'] > 5000]\n",
        "\n",
        "# Contar o número de pessoas com renda > a 5 mil\n",
        "num_renda_alta = len(df_renda_alta)\n",
        "\n",
        "# Calcular a probabilidade de ter renda > a 5 mil\n",
        "probabilidade_renda_alta = num_renda_alta / total_pessoas_estados\n",
        "\n",
        "# Exibir o resultado\n",
        "print(f\"A probabilidade de uma pessoa de Alagoas ou do Pará ter uma renda superior a 5 mil reais é: {probabilidade_renda_alta:.2f}\")"
      ],
      "metadata": {
        "colab": {
          "base_uri": "https://localhost:8080/"
        },
        "id": "glnxc-kth_3R",
        "outputId": "2bd552ee-0fbc-43b1-cd6c-ef9f18cdf589"
      },
      "execution_count": 115,
      "outputs": [
        {
          "output_type": "stream",
          "name": "stdout",
          "text": [
            "A probabilidade de uma pessoa de Alagoas ou do Pará ter uma renda superior a 5 mil reais é: 0.05\n"
          ]
        }
      ]
    },
    {
      "cell_type": "markdown",
      "source": [
        "**3-Descubra a probabilidade de uma pessoa ter ensino superior completo no estado do Amazonas. Qual a probabilidade da quinta pessoa que você conversar, que é amazonense, ter ensino superior completo?**"
      ],
      "metadata": {
        "id": "Ouijft1pigil"
      }
    },
    {
      "cell_type": "code",
      "source": [
        "# Verifique os valores únicos na coluna de escolaridade\n",
        "print(df['escolaridade'].unique())"
      ],
      "metadata": {
        "colab": {
          "base_uri": "https://localhost:8080/"
        },
        "id": "eiFkRojzjiKy",
        "outputId": "47292ebd-0cb6-4cfd-bad9-107a79327609"
      },
      "execution_count": 119,
      "outputs": [
        {
          "output_type": "stream",
          "name": "stdout",
          "text": [
            "['Fundamental' 'Superior' 'Médio' 'Pós-graduação']\n"
          ]
        }
      ]
    },
    {
      "cell_type": "code",
      "source": [
        "estados_am = ['AM']\n",
        "df_am = df[df['estado'].isin(estados_am)]\n",
        "\n",
        "total_pessoas_amazonas = len(df_am)\n",
        "print(f\"Total de pessoas no Amazonas: {total_pessoas_amazonas}\")\n",
        "\n",
        "# Contar o número de pessoas com ensino superior completo\n",
        "num_superior_completo = df_am[df_am['escolaridade'] == 'Superior'].shape[0]\n",
        "print(f\"Número de pessoas com ensino superior completo no Amazonas: {num_superior_completo}\")\n",
        "\n",
        "# Calcular a probabilidade de ter ensino superior completo no Amazonas\n",
        "probabilidade_superior_completo = num_superior_completo / total_pessoas_amazonas\n",
        "print(f\"A probabilidade de uma pessoa no Amazonas ter ensino superior completo é: {probabilidade_superior_completo:.2f}\")\n",
        "\n",
        "# A probabilidade da quinta pessoa ser de ensino superior completo é a mesma\n",
        "# probabilidade de qualquer pessoa ser de ensino superior completo\n",
        "print(f\"A probabilidade da quinta pessoa que você conversar, que é amazonense, ter ensino superior completo é: {probabilidade_superior_completo:.2f}\")"
      ],
      "metadata": {
        "colab": {
          "base_uri": "https://localhost:8080/"
        },
        "id": "Q4lYUHRQiobx",
        "outputId": "727884a0-c24d-494b-e696-69e78ba451da"
      },
      "execution_count": 121,
      "outputs": [
        {
          "output_type": "stream",
          "name": "stdout",
          "text": [
            "Total de pessoas no Amazonas: 38\n",
            "Número de pessoas com ensino superior completo no Amazonas: 9\n",
            "A probabilidade de uma pessoa no Amazonas ter ensino superior completo é: 0.24\n",
            "A probabilidade da quinta pessoa que você conversar, que é amazonense, ter ensino superior completo é: 0.24\n"
          ]
        }
      ]
    },
    {
      "cell_type": "markdown",
      "source": [],
      "metadata": {
        "id": "9nXBr_t_kW1d"
      }
    },
    {
      "cell_type": "markdown",
      "source": [
        "**4-Considerando a renda das pessoas do nosso conjunto, podemos dizer que a renda de uma pessoa brasileira está na sua maioria em que faixa (faça faixa de 1.500 reais)? Qual é a sua função densidade de probabilidade?**"
      ],
      "metadata": {
        "id": "3gwSUwd7kbR0"
      }
    },
    {
      "cell_type": "code",
      "source": [
        "# Filtrar dados para garantir que a coluna 'renda' seja numérica\n",
        "df['renda'] = pd.to_numeric(df['renda'], errors='coerce')\n",
        "\n",
        "# Remover registros com valores de renda faltantes ou inválidos\n",
        "df = df.dropna(subset=['renda'])\n",
        "\n",
        "# Definir faixas de renda de 1.500 reais\n",
        "faixas = np.arange(0, df['renda'].max() + 1500, 1500)\n",
        "\n",
        "# Contar o número de pessoas em cada faixa de renda\n",
        "contagem_faixas = pd.cut(df['renda'], bins=faixas).value_counts().sort_index()\n",
        "\n",
        "# Exibir as faixas de renda e suas contagens\n",
        "print(\"Distribuição de renda por faixa:\")\n",
        "print(contagem_faixas)"
      ],
      "metadata": {
        "colab": {
          "base_uri": "https://localhost:8080/"
        },
        "id": "UsVBpnPIkeBE",
        "outputId": "931744e5-5777-4a9d-e0ee-22640381b201"
      },
      "execution_count": 129,
      "outputs": [
        {
          "output_type": "stream",
          "name": "stdout",
          "text": [
            "Distribuição de renda por faixa:\n",
            "renda\n",
            "(0.0, 1500.0]        55\n",
            "(1500.0, 3000.0]    414\n",
            "(3000.0, 4500.0]    442\n",
            "(4500.0, 6000.0]     89\n",
            "Name: count, dtype: int64\n"
          ]
        }
      ]
    },
    {
      "cell_type": "code",
      "source": [
        "# Plotar a distribuição de renda\n",
        "plt.figure(figsize=(10, 6))\n",
        "contagem_faixas.plot(kind='bar', color='skyblue')\n",
        "plt.xlabel('Faixa de Renda (em R$)')\n",
        "plt.ylabel('Número de Pessoas')\n",
        "plt.title('Distribuição de Renda por Faixa')\n",
        "plt.xticks(rotation=45)\n",
        "plt.grid(axis='y', linestyle='--', alpha=0.7)\n",
        "plt.show()"
      ],
      "metadata": {
        "colab": {
          "base_uri": "https://localhost:8080/",
          "height": 642
        },
        "id": "9p3NCRJsksAv",
        "outputId": "23567866-1057-4cd8-beb6-56376e7c5afa"
      },
      "execution_count": 130,
      "outputs": [
        {
          "output_type": "display_data",
          "data": {
            "text/plain": [
              "<Figure size 1000x600 with 1 Axes>"
            ],
            "image/png": "[encoded data removed]"
          },
          "metadata": {}
        }
      ]
    },
    {
      "cell_type": "code",
      "source": [
        "# Estimar e plotar a função densidade de probabilidade (KDE)\n",
        "plt.figure(figsize=(10, 6))\n",
        "sns.kdeplot(df['renda'], fill=True)\n",
        "plt.xlabel('Renda (em R$)')\n",
        "plt.ylabel('Densidade de Probabilidade')\n",
        "plt.title('Função Densidade de Probabilidade da Renda')\n",
        "plt.grid(True)\n",
        "plt.show()"
      ],
      "metadata": {
        "colab": {
          "base_uri": "https://localhost:8080/",
          "height": 564
        },
        "id": "16eZROFplfnJ",
        "outputId": "e7a3855b-ce04-4ee6-a5e2-38e927f3c167"
      },
      "execution_count": 131,
      "outputs": [
        {
          "output_type": "display_data",
          "data": {
            "text/plain": [
              "<Figure size 1000x600 with 1 Axes>"
            ],
            "image/png": "[encoded data removed]"
          },
          "metadata": {}
        }
      ]
    },
    {
      "cell_type": "markdown",
      "source": [
        "**5-Calcule a média e a variância da renda da amostra. Depois faça a distribuição normal, inclua o gráfico.**"
      ],
      "metadata": {
        "id": "ypDRxxnFll8d"
      }
    },
    {
      "cell_type": "code",
      "source": [
        "# Calcular média e variância\n",
        "media_renda = df['renda'].mean()\n",
        "variancia_renda = df['renda'].var()\n",
        "\n",
        "print(f\"Média da renda: R${media_renda:.2f}\")\n",
        "print(f\"Variância da renda: R${variancia_renda:.2f}\")"
      ],
      "metadata": {
        "colab": {
          "base_uri": "https://localhost:8080/"
        },
        "id": "A53TV3Xcllbn",
        "outputId": "50ece7af-09dc-43a4-cac0-6c49796ca5e6"
      },
      "execution_count": 132,
      "outputs": [
        {
          "output_type": "stream",
          "name": "stdout",
          "text": [
            "Média da renda: R$3082.54\n",
            "Variância da renda: R$993156.23\n"
          ]
        }
      ]
    },
    {
      "cell_type": "code",
      "source": [
        "# Gerar dados para a distribuição normal\n",
        "x = np.linspace(df['renda'].min(), df['renda'].max(), 100)\n",
        "y = (1 / (np.sqrt(2 * np.pi * variancia_renda))) * np.exp(-0.5 * ((x - media_renda) ** 2) / variancia_renda)\n",
        "\n",
        "# Plotar o histograma da renda\n",
        "plt.figure(figsize=(12, 6))\n",
        "sns.histplot(df['renda'], bins=30, kde=True, color='skyblue', stat='density', label='Distribuição de Renda')\n"
      ],
      "metadata": {
        "colab": {
          "base_uri": "https://localhost:8080/",
          "height": 560
        },
        "id": "Y-Cy3OuElry4",
        "outputId": "b2a61c28-c486-410a-825b-2caca5a44ec0"
      },
      "execution_count": 134,
      "outputs": [
        {
          "output_type": "execute_result",
          "data": {
            "text/plain": [
              "<Axes: xlabel='renda', ylabel='Density'>"
            ]
          },
          "metadata": {},
          "execution_count": 134
        },
        {
          "output_type": "display_data",
          "data": {
            "text/plain": [
              "<Figure size 1200x600 with 1 Axes>"
            ],
            "image/png": "[encoded data removed]"
          },
          "metadata": {}
        }
      ]
    },
    {
      "cell_type": "code",
      "source": [
        "# Plotar a distribuição normal\n",
        "plt.plot(x, y, color='red', label='Distribuição Normal')\n",
        "plt.xlabel('Renda (em R$)')\n",
        "plt.ylabel('Densidade de Probabilidade')\n",
        "plt.title('Distribuição da Renda com Distribuição Normal')\n",
        "plt.legend()\n",
        "plt.grid(True)\n",
        "plt.show()"
      ],
      "metadata": {
        "colab": {
          "base_uri": "https://localhost:8080/",
          "height": 472
        },
        "id": "9tXO8jnmpl0W",
        "outputId": "72f20038-90ee-4609-e43d-cf9c9f629e74"
      },
      "execution_count": 135,
      "outputs": [
        {
          "output_type": "display_data",
          "data": {
            "text/plain": [
              "<Figure size 640x480 with 1 Axes>"
            ],
            "image/png": "[encoded data removed]"
          },
          "metadata": {}
        }
      ]
    },
    {
      "cell_type": "markdown",
      "source": [
        "**6-Primeiro considere a probabilidade encontrada no nosso conjunto de\n",
        "pessoas com escolaridade de pós-graduação. Considerando a amostra\n",
        "de população brasileira com 1 milhão de habitantes, qual a\n",
        "probabilidade de encontrarmos 243 mil pessoas com pós-graduação?**\n"
      ],
      "metadata": {
        "id": "0SNkFoL3po_l"
      }
    },
    {
      "cell_type": "code",
      "source": [
        "from scipy.stats import norm"
      ],
      "metadata": {
        "id": "R9ryhUohq-P8"
      },
      "execution_count": 139,
      "outputs": []
    },
    {
      "cell_type": "code",
      "source": [
        "# Garantir que a coluna de escolaridade é numérica e contém o nível 'Pós-Graduação'\n",
        "df['escolaridade'] = df['escolaridade'].astype(str)\n",
        "\n",
        "# Calcular a proporção de pessoas com pós-graduação\n",
        "total_pessoas = len(df)\n",
        "num_pos_grad = df[df['escolaridade'] == 'Pós-graduação'].shape[0]\n",
        "proporcao_pos_grad = num_pos_grad / total_pessoas\n",
        "\n",
        "# Parâmetros da distribuição normal\n",
        "n = 1_000_000  # Tamanho da amostra\n",
        "k = 243_000  # Número desejado de pessoas com pós-graduação\n",
        "\n",
        "# Calcular a média e o desvio padrão\n",
        "media = proporcao_pos_grad * n\n",
        "variancia = n * proporcao_pos_grad * (1 - proporcao_pos_grad)\n",
        "desvio_padrao = np.sqrt(variancia)\n",
        "\n",
        "print(f\"Proporção de pessoas com pós-graduação na amostra: {proporcao_pos_grad:.4f}\")"
      ],
      "metadata": {
        "colab": {
          "base_uri": "https://localhost:8080/"
        },
        "id": "TO3TpKAxpuGU",
        "outputId": "1ff8dc3e-7a18-4b4e-cc1c-6492d6151224"
      },
      "execution_count": 158,
      "outputs": [
        {
          "output_type": "stream",
          "name": "stdout",
          "text": [
            "Proporção de pessoas com pós-graduação na amostra: 0.2530\n"
          ]
        }
      ]
    },
    {
      "cell_type": "code",
      "source": [
        "# Proporção de pessoas com pós-graduação é 0.2530\n",
        "proporcao_pos_grad = 0.2530\n",
        "\n",
        "# Cálculo da probabilidade de encontrar 243.000 pessoas com pós-graduação ou menos\n",
        "z = (k - media) / desvio_padrao\n",
        "probabilidade = norm.cdf(z)\n",
        "\n",
        "# Probabilidade de encontrar exatamente 243.000 pessoas (intervalo de continuidade)\n",
        "probabilidade_exata = norm.cdf((k + 0.5 - media) / desvio_padrao) - norm.cdf((k - 0.5 - media) / desvio_padrao)\n",
        "\n",
        "print(f\"Média esperada na população de 1 milhão: {media:.2f}\")\n",
        "print(f\"Desvio padrão: {desvio_padrao:.2f}\")\n",
        "print(f\"Probabilidade de encontrar {k} pessoas com pós-graduação ou menos: {probabilidade:.4f}\")\n",
        "print(f\"Probabilidade aproximada de encontrar exatamente {k} pessoas com pós-graduação: {probabilidade_exata:.4f}\")"
      ],
      "metadata": {
        "colab": {
          "base_uri": "https://localhost:8080/"
        },
        "id": "DDe7t8XVsPEs",
        "outputId": "f051e040-fa3b-41d2-bc75-23cc6ebf3c40"
      },
      "execution_count": 165,
      "outputs": [
        {
          "output_type": "stream",
          "name": "stdout",
          "text": [
            "Média esperada na população de 1 milhão: 253000.00\n",
            "Desvio padrão: 434.73\n",
            "Probabilidade de encontrar 243000 pessoas com pós-graduação ou menos: 0.0000\n",
            "Probabilidade aproximada de encontrar exatamente 243000 pessoas com pós-graduação: 0.0000\n"
          ]
        }
      ]
    },
    {
      "cell_type": "markdown",
      "source": [
        "**7. Somando as densidades nós temos a função de densidade acumulada.\n",
        "Considerando a coluna ‘Escolaridade’ faça a função de densidade\n",
        "acumulada discreta para cada nível de escolaridade.**"
      ],
      "metadata": {
        "id": "ExBJFn9BtABl"
      }
    },
    {
      "cell_type": "code",
      "source": [
        "# Calcular a frequência de cada nível de escolaridade\n",
        "frequencias = df['escolaridade'].value_counts()\n",
        "\n",
        "# Calcular a densidade de probabilidade\n",
        "densidades = frequencias / frequencias.sum()\n",
        "\n",
        "# Calcular a densidade acumulada\n",
        "densidade_acumulada = densidades.sort_index().cumsum()\n",
        "\n",
        "# Exibir a densidade acumulada\n",
        "print(densidade_acumulada)"
      ],
      "metadata": {
        "colab": {
          "base_uri": "https://localhost:8080/"
        },
        "id": "--wYJIqstFBr",
        "outputId": "b50ec984-4c3a-45c1-8a1c-efcab009bc68"
      },
      "execution_count": 171,
      "outputs": [
        {
          "output_type": "stream",
          "name": "stdout",
          "text": [
            "escolaridade\n",
            "Fundamental      0.266\n",
            "Médio            0.504\n",
            "Pós-graduação    0.757\n",
            "Superior         1.000\n",
            "Name: count, dtype: float64\n"
          ]
        }
      ]
    },
    {
      "cell_type": "code",
      "source": [
        "# Plotar a função de densidade acumulada\n",
        "plt.figure(figsize=(10, 6))\n",
        "plt.step(densidade_acumulada.index, densidade_acumulada.values, where='post', marker='o')\n",
        "plt.xlabel('Nível de Escolaridade')\n",
        "plt.ylabel('Densidade Acumulada')\n",
        "plt.title('Função de Densidade Acumulada por Nível de Escolaridade')\n",
        "plt.grid(True)\n",
        "plt.show()"
      ],
      "metadata": {
        "colab": {
          "base_uri": "https://localhost:8080/",
          "height": 565
        },
        "id": "jFyVEdoMvmxj",
        "outputId": "c1c9e217-5e0b-4cbb-e93b-a7728cb2dae7"
      },
      "execution_count": 172,
      "outputs": [
        {
          "output_type": "display_data",
          "data": {
            "text/plain": [
              "<Figure size 1000x600 with 1 Axes>"
            ],
            "image/png": "[encoded data removed]"
          },
          "metadata": {}
        }
      ]
    },
    {
      "cell_type": "markdown",
      "source": [
        "**8. Qual a margem de erro amostral da proporção populacional\n",
        "considerando a proporção de pessoas com nível de inglês\n",
        "intermediário?**\n"
      ],
      "metadata": {
        "id": "7Ka27XActH7b"
      }
    },
    {
      "cell_type": "code",
      "source": [
        "from scipy import stats"
      ],
      "metadata": {
        "id": "nJ8sD1WnwzXQ"
      },
      "execution_count": 180,
      "outputs": []
    },
    {
      "cell_type": "code",
      "source": [
        "# Calcular a proporção amostral para nível de inglês intermediário\n",
        "n = df.shape[0]  # Tamanho da amostra\n",
        "p = df['nível de proficiência em inglês'].value_counts(normalize=True).get('Intermediário', 0)  # Proporção de nível intermediário\n"
      ],
      "metadata": {
        "id": "i6duOTRKv-EY"
      },
      "execution_count": 181,
      "outputs": []
    },
    {
      "cell_type": "code",
      "source": [
        "# Definir o nível de confiança e obter o valor crítico z\n",
        "nivel_confianca = 0.95\n",
        "z = stats.norm.ppf((1 + nivel_confianca) / 2)"
      ],
      "metadata": {
        "id": "7f1s2KYVwV48"
      },
      "execution_count": 182,
      "outputs": []
    },
    {
      "cell_type": "code",
      "source": [
        "# Calcular a margem de erro\n",
        "margem_erro = z * np.sqrt((p * (1 - p)) / n)\n"
      ],
      "metadata": {
        "id": "OrWN9QQcw5Nt"
      },
      "execution_count": 183,
      "outputs": []
    },
    {
      "cell_type": "code",
      "source": [
        "print(f\"Proporção amostral de nível de inglês intermediário: {p:.4f}\")\n",
        "print(f\"Margem de erro amostral: {margem_erro:.4f}\")"
      ],
      "metadata": {
        "colab": {
          "base_uri": "https://localhost:8080/"
        },
        "id": "Z83I1vc3w8aH",
        "outputId": "bb3097dc-3d00-40b4-a0ad-387ed3903255"
      },
      "execution_count": 184,
      "outputs": [
        {
          "output_type": "stream",
          "name": "stdout",
          "text": [
            "Proporção amostral de nível de inglês intermediário: 0.3290\n",
            "Margem de erro amostral: 0.0291\n"
          ]
        }
      ]
    },
    {
      "cell_type": "markdown",
      "source": [
        "**9. Calcula a renda da população. Qual a probabilidade de encontrar 60\n",
        "pessoas com uma renda mil reais superior à média?**\n"
      ],
      "metadata": {
        "id": "g4cYrlcVtNWG"
      }
    },
    {
      "cell_type": "code",
      "source": [
        "# Calcular a média e o desvio padrão da renda\n",
        "media_renda = df['renda'].mean()\n",
        "desvio_padrao_renda = df['renda'].std()"
      ],
      "metadata": {
        "id": "sA5TA2uczixa"
      },
      "execution_count": 186,
      "outputs": []
    },
    {
      "cell_type": "code",
      "source": [
        "# Novo valor de renda (média + R$1.000)\n",
        "novo_valor_renda = media_renda + 1000"
      ],
      "metadata": {
        "id": "DED4Bv6VzpQw"
      },
      "execution_count": 187,
      "outputs": []
    },
    {
      "cell_type": "code",
      "source": [
        "# Calcular a probabilidade de uma pessoa ter renda >= novo_valor_renda\n",
        "probabilidade_renda_maior = 1 - stats.norm.cdf(novo_valor_renda, loc=media_renda, scale=desvio_padrao_renda)"
      ],
      "metadata": {
        "id": "KoNORk-t1FcL"
      },
      "execution_count": 192,
      "outputs": []
    },
    {
      "cell_type": "code",
      "source": [
        "# Calcular a probabilidade de encontrar 60 pessoas com renda maior ou igual ao novo valor\n",
        "n_pessoas = 1000000  # Tamanho da população considerado\n",
        "pessoas_necessarias = 60"
      ],
      "metadata": {
        "id": "vElunbMg1NhO"
      },
      "execution_count": 193,
      "outputs": []
    },
    {
      "cell_type": "code",
      "source": [
        "# Calcular a probabilidade de encontrar exatamente 60 pessoas com a renda >= novo_valor_renda\n",
        "# Usando a distribuição binomial\n",
        "probabilidade = stats.binom.pmf(pessoas_necessarias, n_pessoas, probabilidade_renda_maior)"
      ],
      "metadata": {
        "id": "3fPzvjM01RXn"
      },
      "execution_count": 196,
      "outputs": []
    },
    {
      "cell_type": "code",
      "source": [
        "# Usar a distribuição binomial para calcular a probabilidade de encontrar exatamente 60 pessoas com renda >= novo_valor_renda\n",
        "probabilidade = stats.binom.pmf(pessoas_necessarias, n_pessoas, probabilidade_renda_maior)"
      ],
      "metadata": {
        "id": "pjwSxQ-7z3q-"
      },
      "execution_count": 190,
      "outputs": []
    },
    {
      "cell_type": "code",
      "source": [
        "print(f\"Média da renda: R${media_renda:.2f}\")\n",
        "print(f\"Desvio padrão da renda: R${desvio_padrao_renda:.2f}\")\n",
        "print(f\"Novo valor de renda: R${novo_valor_renda:.2f}\")\n",
        "print(f\"Probabilidade de encontrar exatamente 60 pessoas com renda maior ou igual a R${novo_valor_renda:.2f}: {probabilidade:.10f}\")"
      ],
      "metadata": {
        "colab": {
          "base_uri": "https://localhost:8080/"
        },
        "id": "zjsQIFCC1n3l",
        "outputId": "8f6a98fe-52eb-40fe-dab5-d60fdf6690f9"
      },
      "execution_count": 197,
      "outputs": [
        {
          "output_type": "stream",
          "name": "stdout",
          "text": [
            "Média da renda: R$3082.54\n",
            "Desvio padrão da renda: R$996.57\n",
            "Novo valor de renda: R$4082.54\n",
            "Probabilidade de encontrar exatamente 60 pessoas com renda maior ou igual a R$4082.54: 0.0000000000\n"
          ]
        }
      ]
    },
    {
      "cell_type": "markdown",
      "source": [
        "**10. Qual a probabilidade de escolhermos alguém do Sudeste que seja\n",
        "homem, com ensino fundamental e com renda maior que 2 mil reais por\n",
        "mês?**"
      ],
      "metadata": {
        "id": "52cKfLmBtQdX"
      }
    },
    {
      "cell_type": "code",
      "source": [
        "estados_sudeste = ['SP', 'RJ', 'MG', 'ES']\n",
        "pessoas_sudeste_homem_fundamental_renda = df[\n",
        "    (df['estado'].isin(estados_sudeste)) &\n",
        "    (df['sexo'] == 'M') &\n",
        "    (df['escolaridade'] == 'Fundamental') &\n",
        "    (df['renda'] > 2000)\n",
        "]"
      ],
      "metadata": {
        "id": "gaXeZcSY4ijw"
      },
      "execution_count": 204,
      "outputs": []
    },
    {
      "cell_type": "code",
      "source": [
        "# Número de pessoas que atendem a todas as condições\n",
        "num_pessoas_especificas = pessoas_sudeste_homem_fundamental_renda.shape[0]"
      ],
      "metadata": {
        "id": "XbY9OrAf5CWQ"
      },
      "execution_count": 205,
      "outputs": []
    },
    {
      "cell_type": "code",
      "source": [
        "# Número total de pessoas no Sudeste\n",
        "total_pessoas_sudeste = df[df['estado'].isin(estados_sudeste)].shape[0]"
      ],
      "metadata": {
        "id": "cWZ-dRwt5D5Z"
      },
      "execution_count": 207,
      "outputs": []
    },
    {
      "cell_type": "code",
      "source": [
        "# Calcular a probabilidade\n",
        "if total_pessoas_sudeste > 0:\n",
        "    probabilidade = num_pessoas_especificas / total_pessoas_sudeste\n",
        "else:\n",
        "    probabilidade = 0\n",
        "\n",
        "print(f\"Proporção de pessoas do Sudeste que são homens, com ensino fundamental e renda maior que R$2000: {probabilidade:.4f}\")"
      ],
      "metadata": {
        "colab": {
          "base_uri": "https://localhost:8080/"
        },
        "id": "UuVbi2lC5AlG",
        "outputId": "5546b3f7-2911-4b1d-ea84-44f0090ed3d4"
      },
      "execution_count": 208,
      "outputs": [
        {
          "output_type": "stream",
          "name": "stdout",
          "text": [
            "Proporção de pessoas do Sudeste que são homens, com ensino fundamental e renda maior que R$2000: 0.1210\n"
          ]
        }
      ]
    },
    {
      "cell_type": "markdown",
      "source": [],
      "metadata": {
        "id": "7iEsXbl8tKkD"
      }
    },
    {
      "cell_type": "code",
      "source": [],
      "metadata": {
        "id": "qx2Z1TGytTb_"
      },
      "execution_count": null,
      "outputs": []
    }
  ]
}