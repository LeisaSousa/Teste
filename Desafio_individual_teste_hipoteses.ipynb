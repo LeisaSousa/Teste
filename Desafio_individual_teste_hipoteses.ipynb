{
  "nbformat": 4,
  "nbformat_minor": 0,
  "metadata": {
    "colab": {
      "provenance": [],
      "include_colab_link": true
    },
    "kernelspec": {
      "name": "python3",
      "display_name": "Python 3"
    },
    "language_info": {
      "name": "python"
    }
  },
  "cells": [
    {
      "cell_type": "markdown",
      "metadata": {
        "id": "view-in-github",
        "colab_type": "text"
      },
      "source": [
        "<a href=\"https://colab.research.google.com/github/LeisaSousa/Teste/blob/main/Desafio_individual_teste_hipoteses.ipynb\" target=\"_parent\"><img src=\"https://colab.research.google.com/assets/colab-badge.svg\" alt=\"Open In Colab\"/></a>"
      ]
    },
    {
      "cell_type": "markdown",
      "source": [
        " **Bootcamp Data Analytics | Squad Grace Hooper DAT7**\n",
        "\n",
        "##### **Líder:** Maria Isabelle Mosca de Araújo\n",
        "\n",
        "1. Andreia de Souza Melo Paschoarelli\n",
        "2. Amanda Cruz de Araújo\n",
        "3. Alexsandra Tavares S. da Silva\n",
        "4. Hosana Fernandes Gomes\n",
        "5. Isabela de Souza Silva\n",
        "6. Leísa Nascimento de Souza\n",
        "7. Luana Verçosa\n",
        "8. Michele Farias das Virgens\n",
        "9. Neucielle Quadros Nunes"
      ],
      "metadata": {
        "id": "CmSKuP8wNbrv"
      }
    },
    {
      "cell_type": "markdown",
      "source": [
        "# Importanto as Bibliotecas, Dataframe | Processamento dos dados"
      ],
      "metadata": {
        "id": "62szHm8Xaixj"
      }
    },
    {
      "cell_type": "code",
      "source": [
        "import pandas as pd\n",
        "import numpy as np\n",
        "import matplotlib.pyplot as plt\n",
        "import seaborn as sns\n",
        "from scipy import stats\n",
        "from scipy.stats import ttest_ind"
      ],
      "metadata": {
        "id": "OoDBKK4gOQPX"
      },
      "execution_count": null,
      "outputs": []
    },
    {
      "cell_type": "code",
      "source": [
        "df = pd.read_csv('/content/desafio_01_cosmeticos_challenge_testehipoteses230206120450-230911-094933.csv')\n",
        "df.head(11)"
      ],
      "metadata": {
        "colab": {
          "base_uri": "https://localhost:8080/",
          "height": 394
        },
        "id": "KVoOXV9GOCGp",
        "outputId": "064abe90-dec2-433e-af2c-a2974436ac21"
      },
      "execution_count": null,
      "outputs": [
        {
          "output_type": "execute_result",
          "data": {
            "text/plain": [
              "    id_produto  id_voluntária  durabilidade  idade  exposicao_sol\n",
              "0            1              1            12     40              1\n",
              "1            2              2             5     36              0\n",
              "2            1              3            19     47              0\n",
              "3            1              4            14     36              1\n",
              "4            1              5            17     46              1\n",
              "5            1              6            14     56              1\n",
              "6            1              7            12     29              1\n",
              "7            1              8            13     52              1\n",
              "8            1              9            18     27              0\n",
              "9            2             10             7     19              1\n",
              "10           3             11            31     21              0"
            ],
            "text/html": [
              "\n",
              "  <div id=\"df-5d579dfa-7d9d-42e0-814f-15ec96a0e2f8\" class=\"colab-df-container\">\n",
              "    <div>\n",
              "<style scoped>\n",
              "    .dataframe tbody tr th:only-of-type {\n",
              "        vertical-align: middle;\n",
              "    }\n",
              "\n",
              "    .dataframe tbody tr th {\n",
              "        vertical-align: top;\n",
              "    }\n",
              "\n",
              "    .dataframe thead th {\n",
              "        text-align: right;\n",
              "    }\n",
              "</style>\n",
              "<table border=\"1\" class=\"dataframe\">\n",
              "  <thead>\n",
              "    <tr style=\"text-align: right;\">\n",
              "      <th></th>\n",
              "      <th>id_produto</th>\n",
              "      <th>id_voluntária</th>\n",
              "      <th>durabilidade</th>\n",
              "      <th>idade</th>\n",
              "      <th>exposicao_sol</th>\n",
              "    </tr>\n",
              "  </thead>\n",
              "  <tbody>\n",
              "    <tr>\n",
              "      <th>0</th>\n",
              "      <td>1</td>\n",
              "      <td>1</td>\n",
              "      <td>12</td>\n",
              "      <td>40</td>\n",
              "      <td>1</td>\n",
              "    </tr>\n",
              "    <tr>\n",
              "      <th>1</th>\n",
              "      <td>2</td>\n",
              "      <td>2</td>\n",
              "      <td>5</td>\n",
              "      <td>36</td>\n",
              "      <td>0</td>\n",
              "    </tr>\n",
              "    <tr>\n",
              "      <th>2</th>\n",
              "      <td>1</td>\n",
              "      <td>3</td>\n",
              "      <td>19</td>\n",
              "      <td>47</td>\n",
              "      <td>0</td>\n",
              "    </tr>\n",
              "    <tr>\n",
              "      <th>3</th>\n",
              "      <td>1</td>\n",
              "      <td>4</td>\n",
              "      <td>14</td>\n",
              "      <td>36</td>\n",
              "      <td>1</td>\n",
              "    </tr>\n",
              "    <tr>\n",
              "      <th>4</th>\n",
              "      <td>1</td>\n",
              "      <td>5</td>\n",
              "      <td>17</td>\n",
              "      <td>46</td>\n",
              "      <td>1</td>\n",
              "    </tr>\n",
              "    <tr>\n",
              "      <th>5</th>\n",
              "      <td>1</td>\n",
              "      <td>6</td>\n",
              "      <td>14</td>\n",
              "      <td>56</td>\n",
              "      <td>1</td>\n",
              "    </tr>\n",
              "    <tr>\n",
              "      <th>6</th>\n",
              "      <td>1</td>\n",
              "      <td>7</td>\n",
              "      <td>12</td>\n",
              "      <td>29</td>\n",
              "      <td>1</td>\n",
              "    </tr>\n",
              "    <tr>\n",
              "      <th>7</th>\n",
              "      <td>1</td>\n",
              "      <td>8</td>\n",
              "      <td>13</td>\n",
              "      <td>52</td>\n",
              "      <td>1</td>\n",
              "    </tr>\n",
              "    <tr>\n",
              "      <th>8</th>\n",
              "      <td>1</td>\n",
              "      <td>9</td>\n",
              "      <td>18</td>\n",
              "      <td>27</td>\n",
              "      <td>0</td>\n",
              "    </tr>\n",
              "    <tr>\n",
              "      <th>9</th>\n",
              "      <td>2</td>\n",
              "      <td>10</td>\n",
              "      <td>7</td>\n",
              "      <td>19</td>\n",
              "      <td>1</td>\n",
              "    </tr>\n",
              "    <tr>\n",
              "      <th>10</th>\n",
              "      <td>3</td>\n",
              "      <td>11</td>\n",
              "      <td>31</td>\n",
              "      <td>21</td>\n",
              "      <td>0</td>\n",
              "    </tr>\n",
              "  </tbody>\n",
              "</table>\n",
              "</div>\n",
              "    <div class=\"colab-df-buttons\">\n",
              "\n",
              "  <div class=\"colab-df-container\">\n",
              "    <button class=\"colab-df-convert\" onclick=\"convertToInteractive('df-5d579dfa-7d9d-42e0-814f-15ec96a0e2f8')\"\n",
              "            title=\"Convert this dataframe to an interactive table.\"\n",
              "            style=\"display:none;\">\n",
              "\n",
              "  <svg xmlns=\"http://www.w3.org/2000/svg\" height=\"24px\" viewBox=\"0 -960 960 960\">\n",
              "    <path d=\"M120-120v-720h720v720H120Zm60-500h600v-160H180v160Zm220 220h160v-160H400v160Zm0 220h160v-160H400v160ZM180-400h160v-160H180v160Zm440 0h160v-160H620v160ZM180-180h160v-160H180v160Zm440 0h160v-160H620v160Z\"/>\n",
              "  </svg>\n",
              "    </button>\n",
              "\n",
              "  <style>\n",
              "    .colab-df-container {\n",
              "      display:flex;\n",
              "      gap: 12px;\n",
              "    }\n",
              "\n",
              "    .colab-df-convert {\n",
              "      background-color: #E8F0FE;\n",
              "      border: none;\n",
              "      border-radius: 50%;\n",
              "      cursor: pointer;\n",
              "      display: none;\n",
              "      fill: #1967D2;\n",
              "      height: 32px;\n",
              "      padding: 0 0 0 0;\n",
              "      width: 32px;\n",
              "    }\n",
              "\n",
              "    .colab-df-convert:hover {\n",
              "      background-color: #E2EBFA;\n",
              "      box-shadow: 0px 1px 2px rgba(60, 64, 67, 0.3), 0px 1px 3px 1px rgba(60, 64, 67, 0.15);\n",
              "      fill: #174EA6;\n",
              "    }\n",
              "\n",
              "    .colab-df-buttons div {\n",
              "      margin-bottom: 4px;\n",
              "    }\n",
              "\n",
              "    [theme=dark] .colab-df-convert {\n",
              "      background-color: #3B4455;\n",
              "      fill: #D2E3FC;\n",
              "    }\n",
              "\n",
              "    [theme=dark] .colab-df-convert:hover {\n",
              "      background-color: #434B5C;\n",
              "      box-shadow: 0px 1px 3px 1px rgba(0, 0, 0, 0.15);\n",
              "      filter: drop-shadow(0px 1px 2px rgba(0, 0, 0, 0.3));\n",
              "      fill: #FFFFFF;\n",
              "    }\n",
              "  </style>\n",
              "\n",
              "    <script>\n",
              "      const buttonEl =\n",
              "        document.querySelector('#df-5d579dfa-7d9d-42e0-814f-15ec96a0e2f8 button.colab-df-convert');\n",
              "      buttonEl.style.display =\n",
              "        google.colab.kernel.accessAllowed ? 'block' : 'none';\n",
              "\n",
              "      async function convertToInteractive(key) {\n",
              "        const element = document.querySelector('#df-5d579dfa-7d9d-42e0-814f-15ec96a0e2f8');\n",
              "        const dataTable =\n",
              "          await google.colab.kernel.invokeFunction('convertToInteractive',\n",
              "                                                    [key], {});\n",
              "        if (!dataTable) return;\n",
              "\n",
              "        const docLinkHtml = 'Like what you see? Visit the ' +\n",
              "          '<a target=\"_blank\" href=https://colab.research.google.com/notebooks/data_table.ipynb>data table notebook</a>'\n",
              "          + ' to learn more about interactive tables.';\n",
              "        element.innerHTML = '';\n",
              "        dataTable['output_type'] = 'display_data';\n",
              "        await google.colab.output.renderOutput(dataTable, element);\n",
              "        const docLink = document.createElement('div');\n",
              "        docLink.innerHTML = docLinkHtml;\n",
              "        element.appendChild(docLink);\n",
              "      }\n",
              "    </script>\n",
              "  </div>\n",
              "\n",
              "\n",
              "<div id=\"df-5fbee175-1c37-4a13-844e-639580abbbe5\">\n",
              "  <button class=\"colab-df-quickchart\" onclick=\"quickchart('df-5fbee175-1c37-4a13-844e-639580abbbe5')\"\n",
              "            title=\"Suggest charts\"\n",
              "            style=\"display:none;\">\n",
              "\n",
              "<svg xmlns=\"http://www.w3.org/2000/svg\" height=\"24px\"viewBox=\"0 0 24 24\"\n",
              "     width=\"24px\">\n",
              "    <g>\n",
              "        <path d=\"M19 3H5c-1.1 0-2 .9-2 2v14c0 1.1.9 2 2 2h14c1.1 0 2-.9 2-2V5c0-1.1-.9-2-2-2zM9 17H7v-7h2v7zm4 0h-2V7h2v10zm4 0h-2v-4h2v4z\"/>\n",
              "    </g>\n",
              "</svg>\n",
              "  </button>\n",
              "\n",
              "<style>\n",
              "  .colab-df-quickchart {\n",
              "      --bg-color: #E8F0FE;\n",
              "      --fill-color: #1967D2;\n",
              "      --hover-bg-color: #E2EBFA;\n",
              "      --hover-fill-color: #174EA6;\n",
              "      --disabled-fill-color: #AAA;\n",
              "      --disabled-bg-color: #DDD;\n",
              "  }\n",
              "\n",
              "  [theme=dark] .colab-df-quickchart {\n",
              "      --bg-color: #3B4455;\n",
              "      --fill-color: #D2E3FC;\n",
              "      --hover-bg-color: #434B5C;\n",
              "      --hover-fill-color: #FFFFFF;\n",
              "      --disabled-bg-color: #3B4455;\n",
              "      --disabled-fill-color: #666;\n",
              "  }\n",
              "\n",
              "  .colab-df-quickchart {\n",
              "    background-color: var(--bg-color);\n",
              "    border: none;\n",
              "    border-radius: 50%;\n",
              "    cursor: pointer;\n",
              "    display: none;\n",
              "    fill: var(--fill-color);\n",
              "    height: 32px;\n",
              "    padding: 0;\n",
              "    width: 32px;\n",
              "  }\n",
              "\n",
              "  .colab-df-quickchart:hover {\n",
              "    background-color: var(--hover-bg-color);\n",
              "    box-shadow: 0 1px 2px rgba(60, 64, 67, 0.3), 0 1px 3px 1px rgba(60, 64, 67, 0.15);\n",
              "    fill: var(--button-hover-fill-color);\n",
              "  }\n",
              "\n",
              "  .colab-df-quickchart-complete:disabled,\n",
              "  .colab-df-quickchart-complete:disabled:hover {\n",
              "    background-color: var(--disabled-bg-color);\n",
              "    fill: var(--disabled-fill-color);\n",
              "    box-shadow: none;\n",
              "  }\n",
              "\n",
              "  .colab-df-spinner {\n",
              "    border: 2px solid var(--fill-color);\n",
              "    border-color: transparent;\n",
              "    border-bottom-color: var(--fill-color);\n",
              "    animation:\n",
              "      spin 1s steps(1) infinite;\n",
              "  }\n",
              "\n",
              "  @keyframes spin {\n",
              "    0% {\n",
              "      border-color: transparent;\n",
              "      border-bottom-color: var(--fill-color);\n",
              "      border-left-color: var(--fill-color);\n",
              "    }\n",
              "    20% {\n",
              "      border-color: transparent;\n",
              "      border-left-color: var(--fill-color);\n",
              "      border-top-color: var(--fill-color);\n",
              "    }\n",
              "    30% {\n",
              "      border-color: transparent;\n",
              "      border-left-color: var(--fill-color);\n",
              "      border-top-color: var(--fill-color);\n",
              "      border-right-color: var(--fill-color);\n",
              "    }\n",
              "    40% {\n",
              "      border-color: transparent;\n",
              "      border-right-color: var(--fill-color);\n",
              "      border-top-color: var(--fill-color);\n",
              "    }\n",
              "    60% {\n",
              "      border-color: transparent;\n",
              "      border-right-color: var(--fill-color);\n",
              "    }\n",
              "    80% {\n",
              "      border-color: transparent;\n",
              "      border-right-color: var(--fill-color);\n",
              "      border-bottom-color: var(--fill-color);\n",
              "    }\n",
              "    90% {\n",
              "      border-color: transparent;\n",
              "      border-bottom-color: var(--fill-color);\n",
              "    }\n",
              "  }\n",
              "</style>\n",
              "\n",
              "  <script>\n",
              "    async function quickchart(key) {\n",
              "      const quickchartButtonEl =\n",
              "        document.querySelector('#' + key + ' button');\n",
              "      quickchartButtonEl.disabled = true;  // To prevent multiple clicks.\n",
              "      quickchartButtonEl.classList.add('colab-df-spinner');\n",
              "      try {\n",
              "        const charts = await google.colab.kernel.invokeFunction(\n",
              "            'suggestCharts', [key], {});\n",
              "      } catch (error) {\n",
              "        console.error('Error during call to suggestCharts:', error);\n",
              "      }\n",
              "      quickchartButtonEl.classList.remove('colab-df-spinner');\n",
              "      quickchartButtonEl.classList.add('colab-df-quickchart-complete');\n",
              "    }\n",
              "    (() => {\n",
              "      let quickchartButtonEl =\n",
              "        document.querySelector('#df-5fbee175-1c37-4a13-844e-639580abbbe5 button');\n",
              "      quickchartButtonEl.style.display =\n",
              "        google.colab.kernel.accessAllowed ? 'block' : 'none';\n",
              "    })();\n",
              "  </script>\n",
              "</div>\n",
              "\n",
              "    </div>\n",
              "  </div>\n"
            ],
            "application/vnd.google.colaboratory.intrinsic+json": {
              "type": "dataframe",
              "variable_name": "df",
              "summary": "{\n  \"name\": \"df\",\n  \"rows\": 300,\n  \"fields\": [\n    {\n      \"column\": \"id_produto\",\n      \"properties\": {\n        \"dtype\": \"number\",\n        \"std\": 0,\n        \"min\": 1,\n        \"max\": 3,\n        \"num_unique_values\": 3,\n        \"samples\": [\n          1,\n          2,\n          3\n        ],\n        \"semantic_type\": \"\",\n        \"description\": \"\"\n      }\n    },\n    {\n      \"column\": \"id_volunt\\u00e1ria\",\n      \"properties\": {\n        \"dtype\": \"number\",\n        \"std\": 86,\n        \"min\": 1,\n        \"max\": 300,\n        \"num_unique_values\": 300,\n        \"samples\": [\n          204,\n          267,\n          153\n        ],\n        \"semantic_type\": \"\",\n        \"description\": \"\"\n      }\n    },\n    {\n      \"column\": \"durabilidade\",\n      \"properties\": {\n        \"dtype\": \"number\",\n        \"std\": 10,\n        \"min\": 5,\n        \"max\": 48,\n        \"num_unique_values\": 39,\n        \"samples\": [\n          44,\n          27,\n          17\n        ],\n        \"semantic_type\": \"\",\n        \"description\": \"\"\n      }\n    },\n    {\n      \"column\": \"idade\",\n      \"properties\": {\n        \"dtype\": \"number\",\n        \"std\": 12,\n        \"min\": 18,\n        \"max\": 60,\n        \"num_unique_values\": 43,\n        \"samples\": [\n          59,\n          48,\n          41\n        ],\n        \"semantic_type\": \"\",\n        \"description\": \"\"\n      }\n    },\n    {\n      \"column\": \"exposicao_sol\",\n      \"properties\": {\n        \"dtype\": \"number\",\n        \"std\": 0,\n        \"min\": 0,\n        \"max\": 1,\n        \"num_unique_values\": 2,\n        \"samples\": [\n          0,\n          1\n        ],\n        \"semantic_type\": \"\",\n        \"description\": \"\"\n      }\n    }\n  ]\n}"
            }
          },
          "metadata": {},
          "execution_count": 13
        }
      ]
    },
    {
      "cell_type": "code",
      "source": [
        "df.columns"
      ],
      "metadata": {
        "colab": {
          "base_uri": "https://localhost:8080/"
        },
        "id": "ivnJjwxObCgj",
        "outputId": "996fce3a-13fe-4b04-f111-47b686b7495b"
      },
      "execution_count": null,
      "outputs": [
        {
          "output_type": "execute_result",
          "data": {
            "text/plain": [
              "Index(['id_produto', 'id_voluntária', 'durabilidade', 'idade',\n",
              "       'exposicao_sol'],\n",
              "      dtype='object')"
            ]
          },
          "metadata": {},
          "execution_count": 14
        }
      ]
    },
    {
      "cell_type": "code",
      "source": [
        "df.info()"
      ],
      "metadata": {
        "colab": {
          "base_uri": "https://localhost:8080/"
        },
        "id": "Y0oAmiiebF6L",
        "outputId": "2a389341-ea1d-4b79-84bb-770707919adf"
      },
      "execution_count": null,
      "outputs": [
        {
          "output_type": "stream",
          "name": "stdout",
          "text": [
            "<class 'pandas.core.frame.DataFrame'>\n",
            "RangeIndex: 300 entries, 0 to 299\n",
            "Data columns (total 5 columns):\n",
            " #   Column         Non-Null Count  Dtype\n",
            "---  ------         --------------  -----\n",
            " 0   id_produto     300 non-null    int64\n",
            " 1   id_voluntária  300 non-null    int64\n",
            " 2   durabilidade   300 non-null    int64\n",
            " 3   idade          300 non-null    int64\n",
            " 4   exposicao_sol  300 non-null    int64\n",
            "dtypes: int64(5)\n",
            "memory usage: 11.8 KB\n"
          ]
        }
      ]
    },
    {
      "cell_type": "code",
      "source": [
        "df.describe()"
      ],
      "metadata": {
        "colab": {
          "base_uri": "https://localhost:8080/",
          "height": 300
        },
        "id": "tWCFynvhbNy6",
        "outputId": "75303f28-c53b-4f3a-d3a6-90e74a2d1e54"
      },
      "execution_count": null,
      "outputs": [
        {
          "output_type": "execute_result",
          "data": {
            "text/plain": [
              "       id_produto  id_voluntária  durabilidade       idade  exposicao_sol\n",
              "count  300.000000     300.000000    300.000000  300.000000     300.000000\n",
              "mean     2.000000     150.500000     17.133333   36.886667       0.440000\n",
              "std      0.817861      86.746758     10.942945   12.625841       0.497216\n",
              "min      1.000000       1.000000      5.000000   18.000000       0.000000\n",
              "25%      1.000000      75.750000      9.000000   26.000000       0.000000\n",
              "50%      2.000000     150.500000     14.000000   36.000000       0.000000\n",
              "75%      3.000000     225.250000     20.000000   48.000000       1.000000\n",
              "max      3.000000     300.000000     48.000000   60.000000       1.000000"
            ],
            "text/html": [
              "\n",
              "  <div id=\"df-9cb1c9a6-e64d-4301-8b74-b087de5a7003\" class=\"colab-df-container\">\n",
              "    <div>\n",
              "<style scoped>\n",
              "    .dataframe tbody tr th:only-of-type {\n",
              "        vertical-align: middle;\n",
              "    }\n",
              "\n",
              "    .dataframe tbody tr th {\n",
              "        vertical-align: top;\n",
              "    }\n",
              "\n",
              "    .dataframe thead th {\n",
              "        text-align: right;\n",
              "    }\n",
              "</style>\n",
              "<table border=\"1\" class=\"dataframe\">\n",
              "  <thead>\n",
              "    <tr style=\"text-align: right;\">\n",
              "      <th></th>\n",
              "      <th>id_produto</th>\n",
              "      <th>id_voluntária</th>\n",
              "      <th>durabilidade</th>\n",
              "      <th>idade</th>\n",
              "      <th>exposicao_sol</th>\n",
              "    </tr>\n",
              "  </thead>\n",
              "  <tbody>\n",
              "    <tr>\n",
              "      <th>count</th>\n",
              "      <td>300.000000</td>\n",
              "      <td>300.000000</td>\n",
              "      <td>300.000000</td>\n",
              "      <td>300.000000</td>\n",
              "      <td>300.000000</td>\n",
              "    </tr>\n",
              "    <tr>\n",
              "      <th>mean</th>\n",
              "      <td>2.000000</td>\n",
              "      <td>150.500000</td>\n",
              "      <td>17.133333</td>\n",
              "      <td>36.886667</td>\n",
              "      <td>0.440000</td>\n",
              "    </tr>\n",
              "    <tr>\n",
              "      <th>std</th>\n",
              "      <td>0.817861</td>\n",
              "      <td>86.746758</td>\n",
              "      <td>10.942945</td>\n",
              "      <td>12.625841</td>\n",
              "      <td>0.497216</td>\n",
              "    </tr>\n",
              "    <tr>\n",
              "      <th>min</th>\n",
              "      <td>1.000000</td>\n",
              "      <td>1.000000</td>\n",
              "      <td>5.000000</td>\n",
              "      <td>18.000000</td>\n",
              "      <td>0.000000</td>\n",
              "    </tr>\n",
              "    <tr>\n",
              "      <th>25%</th>\n",
              "      <td>1.000000</td>\n",
              "      <td>75.750000</td>\n",
              "      <td>9.000000</td>\n",
              "      <td>26.000000</td>\n",
              "      <td>0.000000</td>\n",
              "    </tr>\n",
              "    <tr>\n",
              "      <th>50%</th>\n",
              "      <td>2.000000</td>\n",
              "      <td>150.500000</td>\n",
              "      <td>14.000000</td>\n",
              "      <td>36.000000</td>\n",
              "      <td>0.000000</td>\n",
              "    </tr>\n",
              "    <tr>\n",
              "      <th>75%</th>\n",
              "      <td>3.000000</td>\n",
              "      <td>225.250000</td>\n",
              "      <td>20.000000</td>\n",
              "      <td>48.000000</td>\n",
              "      <td>1.000000</td>\n",
              "    </tr>\n",
              "    <tr>\n",
              "      <th>max</th>\n",
              "      <td>3.000000</td>\n",
              "      <td>300.000000</td>\n",
              "      <td>48.000000</td>\n",
              "      <td>60.000000</td>\n",
              "      <td>1.000000</td>\n",
              "    </tr>\n",
              "  </tbody>\n",
              "</table>\n",
              "</div>\n",
              "    <div class=\"colab-df-buttons\">\n",
              "\n",
              "  <div class=\"colab-df-container\">\n",
              "    <button class=\"colab-df-convert\" onclick=\"convertToInteractive('df-9cb1c9a6-e64d-4301-8b74-b087de5a7003')\"\n",
              "            title=\"Convert this dataframe to an interactive table.\"\n",
              "            style=\"display:none;\">\n",
              "\n",
              "  <svg xmlns=\"http://www.w3.org/2000/svg\" height=\"24px\" viewBox=\"0 -960 960 960\">\n",
              "    <path d=\"M120-120v-720h720v720H120Zm60-500h600v-160H180v160Zm220 220h160v-160H400v160Zm0 220h160v-160H400v160ZM180-400h160v-160H180v160Zm440 0h160v-160H620v160ZM180-180h160v-160H180v160Zm440 0h160v-160H620v160Z\"/>\n",
              "  </svg>\n",
              "    </button>\n",
              "\n",
              "  <style>\n",
              "    .colab-df-container {\n",
              "      display:flex;\n",
              "      gap: 12px;\n",
              "    }\n",
              "\n",
              "    .colab-df-convert {\n",
              "      background-color: #E8F0FE;\n",
              "      border: none;\n",
              "      border-radius: 50%;\n",
              "      cursor: pointer;\n",
              "      display: none;\n",
              "      fill: #1967D2;\n",
              "      height: 32px;\n",
              "      padding: 0 0 0 0;\n",
              "      width: 32px;\n",
              "    }\n",
              "\n",
              "    .colab-df-convert:hover {\n",
              "      background-color: #E2EBFA;\n",
              "      box-shadow: 0px 1px 2px rgba(60, 64, 67, 0.3), 0px 1px 3px 1px rgba(60, 64, 67, 0.15);\n",
              "      fill: #174EA6;\n",
              "    }\n",
              "\n",
              "    .colab-df-buttons div {\n",
              "      margin-bottom: 4px;\n",
              "    }\n",
              "\n",
              "    [theme=dark] .colab-df-convert {\n",
              "      background-color: #3B4455;\n",
              "      fill: #D2E3FC;\n",
              "    }\n",
              "\n",
              "    [theme=dark] .colab-df-convert:hover {\n",
              "      background-color: #434B5C;\n",
              "      box-shadow: 0px 1px 3px 1px rgba(0, 0, 0, 0.15);\n",
              "      filter: drop-shadow(0px 1px 2px rgba(0, 0, 0, 0.3));\n",
              "      fill: #FFFFFF;\n",
              "    }\n",
              "  </style>\n",
              "\n",
              "    <script>\n",
              "      const buttonEl =\n",
              "        document.querySelector('#df-9cb1c9a6-e64d-4301-8b74-b087de5a7003 button.colab-df-convert');\n",
              "      buttonEl.style.display =\n",
              "        google.colab.kernel.accessAllowed ? 'block' : 'none';\n",
              "\n",
              "      async function convertToInteractive(key) {\n",
              "        const element = document.querySelector('#df-9cb1c9a6-e64d-4301-8b74-b087de5a7003');\n",
              "        const dataTable =\n",
              "          await google.colab.kernel.invokeFunction('convertToInteractive',\n",
              "                                                    [key], {});\n",
              "        if (!dataTable) return;\n",
              "\n",
              "        const docLinkHtml = 'Like what you see? Visit the ' +\n",
              "          '<a target=\"_blank\" href=https://colab.research.google.com/notebooks/data_table.ipynb>data table notebook</a>'\n",
              "          + ' to learn more about interactive tables.';\n",
              "        element.innerHTML = '';\n",
              "        dataTable['output_type'] = 'display_data';\n",
              "        await google.colab.output.renderOutput(dataTable, element);\n",
              "        const docLink = document.createElement('div');\n",
              "        docLink.innerHTML = docLinkHtml;\n",
              "        element.appendChild(docLink);\n",
              "      }\n",
              "    </script>\n",
              "  </div>\n",
              "\n",
              "\n",
              "<div id=\"df-a733c2c4-5cf6-4199-a840-955417eea9ca\">\n",
              "  <button class=\"colab-df-quickchart\" onclick=\"quickchart('df-a733c2c4-5cf6-4199-a840-955417eea9ca')\"\n",
              "            title=\"Suggest charts\"\n",
              "            style=\"display:none;\">\n",
              "\n",
              "<svg xmlns=\"http://www.w3.org/2000/svg\" height=\"24px\"viewBox=\"0 0 24 24\"\n",
              "     width=\"24px\">\n",
              "    <g>\n",
              "        <path d=\"M19 3H5c-1.1 0-2 .9-2 2v14c0 1.1.9 2 2 2h14c1.1 0 2-.9 2-2V5c0-1.1-.9-2-2-2zM9 17H7v-7h2v7zm4 0h-2V7h2v10zm4 0h-2v-4h2v4z\"/>\n",
              "    </g>\n",
              "</svg>\n",
              "  </button>\n",
              "\n",
              "<style>\n",
              "  .colab-df-quickchart {\n",
              "      --bg-color: #E8F0FE;\n",
              "      --fill-color: #1967D2;\n",
              "      --hover-bg-color: #E2EBFA;\n",
              "      --hover-fill-color: #174EA6;\n",
              "      --disabled-fill-color: #AAA;\n",
              "      --disabled-bg-color: #DDD;\n",
              "  }\n",
              "\n",
              "  [theme=dark] .colab-df-quickchart {\n",
              "      --bg-color: #3B4455;\n",
              "      --fill-color: #D2E3FC;\n",
              "      --hover-bg-color: #434B5C;\n",
              "      --hover-fill-color: #FFFFFF;\n",
              "      --disabled-bg-color: #3B4455;\n",
              "      --disabled-fill-color: #666;\n",
              "  }\n",
              "\n",
              "  .colab-df-quickchart {\n",
              "    background-color: var(--bg-color);\n",
              "    border: none;\n",
              "    border-radius: 50%;\n",
              "    cursor: pointer;\n",
              "    display: none;\n",
              "    fill: var(--fill-color);\n",
              "    height: 32px;\n",
              "    padding: 0;\n",
              "    width: 32px;\n",
              "  }\n",
              "\n",
              "  .colab-df-quickchart:hover {\n",
              "    background-color: var(--hover-bg-color);\n",
              "    box-shadow: 0 1px 2px rgba(60, 64, 67, 0.3), 0 1px 3px 1px rgba(60, 64, 67, 0.15);\n",
              "    fill: var(--button-hover-fill-color);\n",
              "  }\n",
              "\n",
              "  .colab-df-quickchart-complete:disabled,\n",
              "  .colab-df-quickchart-complete:disabled:hover {\n",
              "    background-color: var(--disabled-bg-color);\n",
              "    fill: var(--disabled-fill-color);\n",
              "    box-shadow: none;\n",
              "  }\n",
              "\n",
              "  .colab-df-spinner {\n",
              "    border: 2px solid var(--fill-color);\n",
              "    border-color: transparent;\n",
              "    border-bottom-color: var(--fill-color);\n",
              "    animation:\n",
              "      spin 1s steps(1) infinite;\n",
              "  }\n",
              "\n",
              "  @keyframes spin {\n",
              "    0% {\n",
              "      border-color: transparent;\n",
              "      border-bottom-color: var(--fill-color);\n",
              "      border-left-color: var(--fill-color);\n",
              "    }\n",
              "    20% {\n",
              "      border-color: transparent;\n",
              "      border-left-color: var(--fill-color);\n",
              "      border-top-color: var(--fill-color);\n",
              "    }\n",
              "    30% {\n",
              "      border-color: transparent;\n",
              "      border-left-color: var(--fill-color);\n",
              "      border-top-color: var(--fill-color);\n",
              "      border-right-color: var(--fill-color);\n",
              "    }\n",
              "    40% {\n",
              "      border-color: transparent;\n",
              "      border-right-color: var(--fill-color);\n",
              "      border-top-color: var(--fill-color);\n",
              "    }\n",
              "    60% {\n",
              "      border-color: transparent;\n",
              "      border-right-color: var(--fill-color);\n",
              "    }\n",
              "    80% {\n",
              "      border-color: transparent;\n",
              "      border-right-color: var(--fill-color);\n",
              "      border-bottom-color: var(--fill-color);\n",
              "    }\n",
              "    90% {\n",
              "      border-color: transparent;\n",
              "      border-bottom-color: var(--fill-color);\n",
              "    }\n",
              "  }\n",
              "</style>\n",
              "\n",
              "  <script>\n",
              "    async function quickchart(key) {\n",
              "      const quickchartButtonEl =\n",
              "        document.querySelector('#' + key + ' button');\n",
              "      quickchartButtonEl.disabled = true;  // To prevent multiple clicks.\n",
              "      quickchartButtonEl.classList.add('colab-df-spinner');\n",
              "      try {\n",
              "        const charts = await google.colab.kernel.invokeFunction(\n",
              "            'suggestCharts', [key], {});\n",
              "      } catch (error) {\n",
              "        console.error('Error during call to suggestCharts:', error);\n",
              "      }\n",
              "      quickchartButtonEl.classList.remove('colab-df-spinner');\n",
              "      quickchartButtonEl.classList.add('colab-df-quickchart-complete');\n",
              "    }\n",
              "    (() => {\n",
              "      let quickchartButtonEl =\n",
              "        document.querySelector('#df-a733c2c4-5cf6-4199-a840-955417eea9ca button');\n",
              "      quickchartButtonEl.style.display =\n",
              "        google.colab.kernel.accessAllowed ? 'block' : 'none';\n",
              "    })();\n",
              "  </script>\n",
              "</div>\n",
              "\n",
              "    </div>\n",
              "  </div>\n"
            ],
            "application/vnd.google.colaboratory.intrinsic+json": {
              "type": "dataframe",
              "summary": "{\n  \"name\": \"df\",\n  \"rows\": 8,\n  \"fields\": [\n    {\n      \"column\": \"id_produto\",\n      \"properties\": {\n        \"dtype\": \"number\",\n        \"std\": 105.42213927167317,\n        \"min\": 0.8178608201095307,\n        \"max\": 300.0,\n        \"num_unique_values\": 5,\n        \"samples\": [\n          2.0,\n          3.0,\n          0.8178608201095307\n        ],\n        \"semantic_type\": \"\",\n        \"description\": \"\"\n      }\n    },\n    {\n      \"column\": \"id_volunt\\u00e1ria\",\n      \"properties\": {\n        \"dtype\": \"number\",\n        \"std\": 107.81683381169819,\n        \"min\": 1.0,\n        \"max\": 300.0,\n        \"num_unique_values\": 6,\n        \"samples\": [\n          300.0,\n          150.5,\n          225.25\n        ],\n        \"semantic_type\": \"\",\n        \"description\": \"\"\n      }\n    },\n    {\n      \"column\": \"durabilidade\",\n      \"properties\": {\n        \"dtype\": \"number\",\n        \"std\": 100.66863102790279,\n        \"min\": 5.0,\n        \"max\": 300.0,\n        \"num_unique_values\": 8,\n        \"samples\": [\n          17.133333333333333,\n          14.0,\n          300.0\n        ],\n        \"semantic_type\": \"\",\n        \"description\": \"\"\n      }\n    },\n    {\n      \"column\": \"idade\",\n      \"properties\": {\n        \"dtype\": \"number\",\n        \"std\": 95.32281697174109,\n        \"min\": 12.625841031845244,\n        \"max\": 300.0,\n        \"num_unique_values\": 8,\n        \"samples\": [\n          36.88666666666666,\n          36.0,\n          300.0\n        ],\n        \"semantic_type\": \"\",\n        \"description\": \"\"\n      }\n    },\n    {\n      \"column\": \"exposicao_sol\",\n      \"properties\": {\n        \"dtype\": \"number\",\n        \"std\": 105.9184802398583,\n        \"min\": 0.0,\n        \"max\": 300.0,\n        \"num_unique_values\": 5,\n        \"samples\": [\n          0.44,\n          1.0,\n          0.4972163314570013\n        ],\n        \"semantic_type\": \"\",\n        \"description\": \"\"\n      }\n    }\n  ]\n}"
            }
          },
          "metadata": {},
          "execution_count": 16
        }
      ]
    },
    {
      "cell_type": "markdown",
      "source": [
        "# DESAFIO 1 _ Cosmetícos\n",
        "\n",
        "Suponha que você trabalha em uma empresa do ramo de cosméticos ou beleza. O\n",
        "Time de produtos dessa empresa está interessado criar novos batons com maior\n",
        "durabilidade. Para isso estão testando 3 diferentes fórmulas para irem a mercado.\n",
        "\n",
        "Com isso, a empresa fez uma pesquisa com varias voluntárias e populou a base de\n",
        "dados (desafio_01_cosmeticos.csv) contendo as seguintes informacoes:\n",
        "\n",
        "● id_produto: código identificador do produto, com a fórmula utilizada. Para\n",
        "diferenciarmos se se trata do batom com a fórmula 1, 2 ou 3\n",
        "\n",
        "● id_voluntária: código identificador da voluntária que utilizou o produto.\n",
        "\n",
        "● durabilidade: quanto tempo o produto durou em horas.\n",
        "\n",
        "● idade: idade da voluntária\n",
        "\n",
        "● exposicao_sol: variável que indica 1 se a voluntária se expos ao sol 0 caso\n",
        "contrário."
      ],
      "metadata": {
        "id": "V5sCcuj4Ohqd"
      }
    },
    {
      "cell_type": "markdown",
      "source": [
        " 1- Existe diferenca estatisticamente significativa na durabilidade dos batons com formulas diferentes?\n"
      ],
      "metadata": {
        "id": "Blrbf4sKO2A7"
      }
    },
    {
      "cell_type": "code",
      "source": [
        "# Separando os dados de durabilidade por fórmula\n",
        "\n",
        "formula_1 = df[df['id_produto'] == 1]['durabilidade']\n",
        "formula_2 = df[df['id_produto'] == 2]['durabilidade']\n",
        "formula_3 = df[df['id_produto'] == 3]['durabilidade']\n",
        "\n",
        "# Realizar o teste ANOVA\n",
        "f_statistic, p_value = stats.f_oneway(formula_1, formula_2, formula_3)\n",
        "\n",
        "# Exibir os resultados\n",
        "print(f'Estatística F: {f_statistic}')\n",
        "print(f'Valor-p: {p_value}')\n",
        "\n",
        "# Verificar significância\n",
        "if p_value < 0.05:\n",
        "    print(\"Existe uma diferença estatisticamente significativa na durabilidade entre as fórmulas.\")\n",
        "else:\n",
        "    print(\"Não existe uma diferença estatisticamente significativa na durabilidade entre as fórmulas.\")\n"
      ],
      "metadata": {
        "id": "Ps_Lryp2PAaG",
        "colab": {
          "base_uri": "https://localhost:8080/"
        },
        "outputId": "0f3bbf9a-ea75-4c2d-da66-ea93bb391a86"
      },
      "execution_count": null,
      "outputs": [
        {
          "output_type": "stream",
          "name": "stdout",
          "text": [
            "Estatística F: 240.6680561187368\n",
            "Valor-p: 7.345246616757137e-63\n",
            "Existe uma diferença estatisticamente significativa na durabilidade entre as fórmulas.\n"
          ]
        }
      ]
    },
    {
      "cell_type": "code",
      "source": [
        "# Configurar o estilo e o tamanho do gráfico\n",
        "sns.set(style=\"whitegrid\")\n",
        "\n",
        "# Criando o gráfico boxplot\n",
        "plt.figure(figsize=(10, 6))\n",
        "ax = sns.boxplot(x='id_produto', y='durabilidade', data=df, showmeans=True, meanline=True)\n",
        "\n",
        "# Adicionando título e rótulos\n",
        "plt.title('Distribuição da Durabilidade dos Batons por Fórmula', fontsize=16)\n",
        "plt.xlabel('Fórmula do Batom', fontsize=12)\n",
        "plt.ylabel('Durabilidade (em horas)', fontsize=12)\n",
        "\n",
        "# Adicionando a média de cada fórmula no gráfico\n",
        "for i, box in enumerate(ax.artists):\n",
        "    medians = df.groupby('id_produto')['durabilidade'].median()\n",
        "    ax.text(i, medians[i] + 0.05, round(medians[i], 2),\n",
        "            horizontalalignment='center', size='medium', color='black', weight='semibold')\n",
        "\n",
        "# Exibindo o gráfico\n",
        "plt.show()\n"
      ],
      "metadata": {
        "colab": {
          "base_uri": "https://localhost:8080/",
          "height": 576
        },
        "id": "6T2lVtMnfiLV",
        "outputId": "13b8b553-264f-4327-93f8-43786f29af19"
      },
      "execution_count": null,
      "outputs": [
        {
          "output_type": "display_data",
          "data": {
            "text/plain": [
              "<Figure size 1000x600 with 1 Axes>"
            ],
            "image/png": "[encoded data removed]"
          },
          "metadata": {}
        }
      ]
    },
    {
      "cell_type": "markdown",
      "source": [
        "Análise das Caixas\n",
        "Caixa 1 (Fórmula 1)\n",
        "Mínimo: 10 horas\n",
        "Q1: 12 horas (25% dos dados estão abaixo desse valor)\n",
        "Q2 (Mediana): 16 horas (50% dos dados estão abaixo desse valor)\n",
        "Q3: 18 horas (75% dos dados estão abaixo desse valor)\n",
        "Máximo: 20 horas\n",
        "Interpretação:\n",
        "\n",
        "A durabilidade dos batons da Fórmula 1 varia entre 10 e 20 horas.\n",
        "A mediana (16 horas) indica que metade das voluntárias relatou durabilidades até esse tempo, e a maior parte dos dados (até Q3, que é 18 horas) está abaixo de 18 horas.\n",
        "A menor durabilidade é 10 horas, e há uma concentração de dados próximos à mediana.\n",
        "Caixa 2 (Fórmula 2)\n",
        "Mínimo: 3 horas\n",
        "Q1: 5 horas\n",
        "Q2 (Mediana): 8 horas\n",
        "Q3: 8 horas\n",
        "Máximo: 12 horas\n",
        "Interpretação:\n",
        "\n",
        "A durabilidade dos batons da Fórmula 2 é muito menor, variando entre 3 e 12 horas.\n",
        "A mediana é de apenas 8 horas, indicando que a maioria das voluntárias teve experiências de durabilidade abaixo desse tempo.\n",
        "A presença de um mínimo tão baixo (3 horas) sugere que alguns batons dessa fórmula têm durabilidades consideravelmente insatisfatórias.\n",
        "Caixa 3 (Fórmula 3)\n",
        "Mínimo: 10 horas\n",
        "Q1: 18 horas\n",
        "Q2 (Mediana): 28 horas\n",
        "Q3: 38 horas\n",
        "Máximo: 48 horas\n",
        "Interpretação:\n",
        "\n",
        "A durabilidade dos batons da Fórmula 3 é significativamente maior, variando entre 10 e 48 horas.\n",
        "A mediana é de 28 horas, indicando que metade das voluntárias relatou durabilidades acima desse valor, e a maioria (75%, até Q3) teve durabilidade acima de 38 horas.\n",
        "A diferença em relação às outras fórmulas é notável, pois essa fórmula não só tem a mediana mais alta, mas também um máximo que é consideravelmente maior (48 horas).\n",
        "Comparação entre as Fórmulas\n",
        "Fórmula 1 apresenta durabilidades medianas razoáveis, mas ainda longe do ideal.\n",
        "Fórmula 2 parece ter desempenho insatisfatório em relação à durabilidade.\n",
        "Fórmula 3 se destaca como a mais eficaz, com medianas e máximas significativamente mais altas."
      ],
      "metadata": {
        "id": "fUBCI2mLoe24"
      }
    },
    {
      "cell_type": "markdown",
      "source": [
        "2- Essa diferenca persiste ou nao quando a voluntária se expoe ao sol? E com relacao a idade?"
      ],
      "metadata": {
        "id": "e3ffTpuwPAoR"
      }
    },
    {
      "cell_type": "code",
      "source": [
        "# Dividindo os dados em dois grupos com base na exposição ao sol\n",
        "grupo_exposto = df[df['exposicao_sol'] == 1]['durabilidade']\n",
        "grupo_nao_exposto = df[df['exposicao_sol'] == 0]['durabilidade']\n",
        "\n",
        "# Realizando o teste t\n",
        "t_stat, p_valor = stats.ttest_ind(grupo_exposto, grupo_nao_exposto)\n",
        "\n",
        "# Exibindo os resultados\n",
        "print(f'Estatística t: {t_stat}')\n",
        "print(f'Valor p: {p_valor}')\n",
        "\n",
        "# Interpretação\n",
        "alpha = 0.05\n",
        "if p_valor < alpha:\n",
        "    print(\"Há uma diferença estatisticamente significativa na durabilidade dos batons entre os grupos.\")\n",
        "else:\n",
        "    print(\"Não há diferença estatisticamente significativa na durabilidade dos batons entre os grupos.\")\n"
      ],
      "metadata": {
        "id": "li6S_0xyPNPN",
        "colab": {
          "base_uri": "https://localhost:8080/"
        },
        "outputId": "10fa3ae5-ac28-41e3-ee6b-fa920eeedde0"
      },
      "execution_count": null,
      "outputs": [
        {
          "output_type": "stream",
          "name": "stdout",
          "text": [
            "Estatística t: -6.569037741942654\n",
            "Valor p: 2.2536816589784333e-10\n",
            "Há uma diferença estatisticamente significativa na durabilidade dos batons entre os grupos.\n"
          ]
        }
      ]
    },
    {
      "cell_type": "code",
      "source": [
        "# Configurando o estilo do gráfico\n",
        "sns.set(style=\"whitegrid\")\n",
        "\n",
        "# Criando o boxplot\n",
        "plt.figure(figsize=(10, 6))\n",
        "sns.boxplot(x='exposicao_sol', y='durabilidade', data=df)\n",
        "\n",
        "# Adicionando títulos e rótulos\n",
        "plt.title('Durabilidade dos Batons por Exposição ao Sol', fontsize=16)\n",
        "plt.xlabel('Exposição ao Sol (0 = Não, 1 = Sim)', fontsize=14)\n",
        "plt.ylabel('Durabilidade (horas)', fontsize=14)\n",
        "\n",
        "# Exibindo o gráfico\n",
        "plt.xticks([0, 1], ['Não Exposto', 'Exposto'])\n",
        "plt.show()"
      ],
      "metadata": {
        "colab": {
          "base_uri": "https://localhost:8080/",
          "height": 576
        },
        "id": "J-_mGEDHlQd5",
        "outputId": "00a61413-30b7-4667-b105-a7a2b7b02193"
      },
      "execution_count": null,
      "outputs": [
        {
          "output_type": "display_data",
          "data": {
            "text/plain": [
              "<Figure size 1000x600 with 1 Axes>"
            ],
            "image/png": "[encoded data removed]"
          },
          "metadata": {}
        }
      ]
    },
    {
      "cell_type": "code",
      "source": [
        "# Usando ANOVA para verificar se a idade influencia a durabilidade\n",
        "\n",
        "import statsmodels.api as sm\n",
        "from statsmodels.formula.api import ols\n",
        "\n",
        "# Criando uma variável categórica para idades\n",
        "df['grupo_idade'] = pd.cut(df['idade'], bins=[0, 18, 30, 45, 60, 100],\n",
        "                             labels=['0-18', '19-30', '31-45', '46-60', '60+'])\n",
        "\n",
        "# Realizando ANOVA\n",
        "modelo = ols('durabilidade ~ grupo_idade', data=df).fit()\n",
        "anova_table = sm.stats.anova_lm(modelo, typ=2)\n",
        "\n",
        "# Exibindo a tabela ANOVA\n",
        "print(anova_table)\n"
      ],
      "metadata": {
        "colab": {
          "base_uri": "https://localhost:8080/"
        },
        "id": "zReydM0-kV3k",
        "outputId": "e41eeb96-e179-4152-ea1a-25e8f4a6269f"
      },
      "execution_count": null,
      "outputs": [
        {
          "output_type": "stream",
          "name": "stdout",
          "text": [
            "                   sum_sq     df          F        PR(>F)\n",
            "grupo_idade   9674.274895    4.0  25.076091  1.745732e-14\n",
            "Residual     28548.960496  296.0        NaN           NaN\n"
          ]
        },
        {
          "output_type": "stream",
          "name": "stderr",
          "text": [
            "/usr/local/lib/python3.10/dist-packages/statsmodels/base/model.py:1894: ValueWarning: covariance of constraints does not have full rank. The number of constraints is 4, but rank is 3\n",
            "  warnings.warn('covariance of constraints does not have full '\n"
          ]
        }
      ]
    },
    {
      "cell_type": "code",
      "source": [
        "# Criando o boxplot para visualização\n",
        "plt.figure(figsize=(10, 6))\n",
        "sns.boxplot(x='grupo_idade', y='durabilidade', data=df)\n",
        "\n",
        "# Adicionando títulos e rótulos\n",
        "plt.title('Durabilidade dos Batons por Grupo de Idade', fontsize=16)\n",
        "plt.xlabel('Grupo de Idade', fontsize=14)\n",
        "plt.ylabel('Durabilidade (horas)', fontsize=14)\n",
        "\n",
        "# Exibindo o gráfico\n",
        "plt.xticks(rotation=45)\n",
        "plt.show()\n"
      ],
      "metadata": {
        "colab": {
          "base_uri": "https://localhost:8080/",
          "height": 602
        },
        "id": "CdIsiuVWltCD",
        "outputId": "6e494571-17de-4c71-9ffa-f0218aced763"
      },
      "execution_count": null,
      "outputs": [
        {
          "output_type": "display_data",
          "data": {
            "text/plain": [
              "<Figure size 1000x600 with 1 Axes>"
            ],
            "image/png": "[encoded data removed]"
          },
          "metadata": {}
        }
      ]
    },
    {
      "cell_type": "markdown",
      "source": [
        "3- Qual fórmula de batom voce indicaria para consumidores que buscam maior durabilidade e exposicao ao sol?"
      ],
      "metadata": {
        "id": "DZ2q_It5POEh"
      }
    },
    {
      "cell_type": "code",
      "source": [
        "###A Fórmula 3 apresenta a maior mediana de durabilidade (28 horas) e um máximo de até 48 horas.\n",
        "###Isso sugere que, em média, os consumidores podem esperar que o batom dure significativamente mais do que as outras fórmulas.\n"
      ],
      "metadata": {
        "id": "d6jEc01TPVkV"
      },
      "execution_count": null,
      "outputs": []
    },
    {
      "cell_type": "markdown",
      "source": [
        "# **Desafio 2:**\n",
        "\n",
        "Imagine que voce trabalha em uma empresa do setor alimentício, e o preço de\n",
        "determinado produto, um novo picolé, tem uma distribuição normal com média igual a R$7,85 e desvio padrão igual a R$3,32. Suspeita-se que devido ao verão, em determinadas localidades de praia o preco do picolé esteja mais caro.\n",
        "\n",
        "Para verificar se esse efeito é estatisticamente significativo, contactaram voce, analista de dados.\n",
        "\n",
        "Suponha que para realizar essa análise voce tenha dados de 45 lojas em cidades do litoral, escolhidas aleatoriamente. E constatou que o preço médio do picolé nessas cidades é de R$11,52."
      ],
      "metadata": {
        "id": "D0twNG3KPWZ7"
      }
    },
    {
      "cell_type": "markdown",
      "source": [
        "1- Voce pode concluir que existe diferenca de precos estatisticamente relevante com 5% de significancia?"
      ],
      "metadata": {
        "id": "5QBQFSgGPcAg"
      }
    },
    {
      "cell_type": "code",
      "source": [],
      "metadata": {
        "id": "coiW1jKIPlEG"
      },
      "execution_count": null,
      "outputs": []
    },
    {
      "cell_type": "markdown",
      "source": [
        "2- Qual o valor da variável teste, o intervalo de confianca e o p-valor?"
      ],
      "metadata": {
        "id": "sipjAMiHPlZG"
      }
    },
    {
      "cell_type": "code",
      "source": [],
      "metadata": {
        "id": "p1NG7qs2Ptqx"
      },
      "execution_count": null,
      "outputs": []
    }
  ]
}