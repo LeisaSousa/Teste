{
  "nbformat": 4,
  "nbformat_minor": 0,
  "metadata": {
    "colab": {
      "provenance": [],
      "include_colab_link": true
    },
    "kernelspec": {
      "name": "python3",
      "display_name": "Python 3"
    },
    "language_info": {
      "name": "python"
    }
  },
  "cells": [
    {
      "cell_type": "markdown",
      "metadata": {
        "id": "view-in-github",
        "colab_type": "text"
      },
      "source": [
        "<a href=\"https://colab.research.google.com/github/LeisaSousa/Teste/blob/main/c_pia_de_c_pia_de_womakerscode_bootcamp_data_analytics.ipynb\" target=\"_parent\"><img src=\"https://colab.research.google.com/assets/colab-badge.svg\" alt=\"Open In Colab\"/></a>"
      ]
    },
    {
      "cell_type": "markdown",
      "source": [
        "DESAFIO 1\n",
        "\n",
        "Crie um programa que solicita ao usuário que insira três notas (valores de 0 a 10) e, em seguida, calcule e exiba a média dessas notas.\n",
        "\n",
        "Além disso, informe ao usuário se ele foi aprovado ou reprovado com base na média das notas, considerando a média mínima de aprovação como 6."
      ],
      "metadata": {
        "id": "sdBUCCdzeef3"
      }
    },
    {
      "cell_type": "code",
      "source": [
        "    nota1 = float(input('Primeira nota: '))\n",
        "    nota2 = float(input('Segunda nota: '))\n",
        "    nota3 = float(input('Terceira nota: '))\n",
        "    media = (nota1 + nota2 + nota3) / 3\n",
        "\n",
        "    print('Media: ',media)\n",
        "\n",
        "    if media<6.0:\n",
        "        print('Reprovado')\n",
        "    elif media>6:\n",
        "        print('Aprovado')\n",
        "\n"
      ],
      "metadata": {
        "id": "j16D0tJ4evJ-",
        "outputId": "eaf6b287-1bb4-4252-bc4f-3dd6fdcbb895",
        "colab": {
          "base_uri": "https://localhost:8080/"
        }
      },
      "execution_count": null,
      "outputs": [
        {
          "output_type": "stream",
          "name": "stdout",
          "text": [
            "Primeira nota: 10\n",
            "Segunda nota: 9\n",
            "Terceira nota: 8\n",
            "Media:  9.0\n",
            "Aprovado\n"
          ]
        }
      ]
    },
    {
      "cell_type": "markdown",
      "source": [
        "DESAFIO 2\n",
        "\n",
        "Crie um programa que solicita ao usuário que insira um número inteiro e, em seguida, verifica se o número é par ou ímpar.\n",
        "\n",
        "O programa deve exibir uma mensagem indicando se o número é par ou ímpar."
      ],
      "metadata": {
        "id": "ClKDF5t4gEyu"
      }
    },
    {
      "cell_type": "code",
      "source": [
        "    numero = float(input('Insira um múnemro inteiro: '))\n",
        "\n",
        "    print('Numero: ',numero)\n",
        "    if numero % 2 == 0: print('É par')\n",
        "    else: print('É ímpar')\n",
        "\n",
        "\n"
      ],
      "metadata": {
        "id": "GWkFk92kfuiO",
        "colab": {
          "base_uri": "https://localhost:8080/"
        },
        "outputId": "e7887861-fcd4-4352-d293-3e6c8af9e233"
      },
      "execution_count": null,
      "outputs": [
        {
          "output_type": "stream",
          "name": "stdout",
          "text": [
            "Insira um múnemro inteiro: 141\n",
            "Numero:  141.0\n",
            "É ímpar\n"
          ]
        }
      ]
    },
    {
      "cell_type": "markdown",
      "source": [
        "DESAFIO 3\n",
        "\n",
        "Crie um programa que verifica se uma palavra fornecida pelo usuário é um palíndromo ou não.\n",
        "\n",
        "(Um palíndromo é uma palavra que é lida da mesma forma tanto da esquerda para a direita quanto da direita para a esquerda.)"
      ],
      "metadata": {
        "id": "MmsZIAj-e0NX"
      }
    },
    {
      "cell_type": "code",
      "source": [
        "\n",
        "def identificar_palindromo(palavra):\n",
        "    palavra = palavra.lower().replace(\" \", \"\").replace(\",\", \"\").replace(\".\", \"\")\n",
        "    invertido = palavra[::-1]\n",
        "\n",
        "    if palavra == invertido:\n",
        "        return True\n",
        "    else:\n",
        "        return False\n",
        "\n",
        "entrada = input(\"Insira uma palavra: \")\n",
        "if identificar_palindromo(entrada):\n",
        "    print(\"A palavra é um palíndromo!\")\n",
        "else:\n",
        "    print(\"A palavra não é um palíndromo!\")\n",
        "\n"
      ],
      "metadata": {
        "id": "PobFqQqafLNj",
        "colab": {
          "base_uri": "https://localhost:8080/"
        },
        "outputId": "00f73537-69f5-40f9-8664-cec0dd039395"
      },
      "execution_count": null,
      "outputs": [
        {
          "output_type": "stream",
          "name": "stdout",
          "text": [
            "Insira uma palavra: Ana\n",
            "A palavra é um palíndromo!\n"
          ]
        }
      ]
    },
    {
      "cell_type": "markdown",
      "source": [
        "DESAFIO 4\n",
        "\n",
        "Crie um programa que solicita ao usuário que insira um número inteiro positivo e, em seguida, calcula e exibe o fatorial desse número.\n",
        "\n",
        "(O fatorial de um número é o produto de todos os números inteiros positivos de 1 até o próprio número.)"
      ],
      "metadata": {
        "id": "9WPRqUfIgLQK"
      }
    },
    {
      "cell_type": "code",
      "source": [
        "\n",
        "    n = int(input(\"Digite um número inteiro positivo: \"))\n",
        "\n",
        "    # inicializações\n",
        "    i     = 1  # contador\n",
        "    n_fat = 1\n",
        "\n",
        "    # calcule n!\n",
        "    while i <= n:\n",
        "        n_fat = n_fat * i\n",
        "        i = i + 1\n",
        "\n",
        "    print(\"%d! = %d\" %(n, n_fat))\n"
      ],
      "metadata": {
        "id": "B3VE36bRgJWu",
        "colab": {
          "base_uri": "https://localhost:8080/"
        },
        "outputId": "b47d0e9d-56cd-4819-ba38-bdb90d00b9be"
      },
      "execution_count": null,
      "outputs": [
        {
          "output_type": "stream",
          "name": "stdout",
          "text": [
            "Digite um número inteiro positivo: 2\n",
            "2! = 2\n"
          ]
        }
      ]
    },
    {
      "cell_type": "markdown",
      "source": [
        "DESAFIO 5\n",
        "\n",
        "Crie um programa que permita ao usuário gerenciar suas tarefas diárias. O programa deve oferecer as seguintes funcionalidades:\n",
        "\n",
        "*   Adicionar uma nova tarefa;\n",
        "*   Visualizar todas as tarefas;\n",
        "*   Marcar uma tarefa como concluída;\n",
        "*   Remover uma tarefa;\n",
        "*   Sair do programa.\n",
        "\n",
        "(Você pode implementar essas funcionalidades usando listas para armazenar as tarefas e estruturas de controle como loops e condicionais para interagir com o usuário.)"
      ],
      "metadata": {
        "id": "dLmeFEi2fO9f"
      }
    },
    {
      "cell_type": "code",
      "source": [
        "def adicionar_tarefa(tarefas, nova_tarefa):\n",
        "    tarefas.append({\"tarefa\": nova_tarefa, \"concluida\": False})\n",
        "\n",
        "def visualizar_tarefas(tarefas):\n",
        "    print(\"Lista de Tarefas:\")\n",
        "    for i, tarefa in enumerate(tarefas, 1):\n",
        "        status = \"Concluída\" if tarefa[\"concluida\"] else \"Pendente\"\n",
        "        print(f\"{i}. {tarefa['tarefa']} - {status}\")\n",
        "\n",
        "def marcar_tarefa_concluida(tarefas, numero_tarefa):\n",
        "    if 1 <= numero_tarefa <= len(tarefas):\n",
        "        tarefas[numero_tarefa - 1][\"concluida\"] = True\n",
        "        print(\"Tarefa marcada como concluída.\")\n",
        "    else:\n",
        "        print(\"Número de tarefa inválido.\")\n",
        "\n",
        "def remover_tarefa(tarefas, numero_tarefa):\n",
        "    if 1 <= numero_tarefa <= len(tarefas):\n",
        "        del tarefas[numero_tarefa - 1]\n",
        "        print(\"Tarefa removida com sucesso.\")\n",
        "    else:\n",
        "        print(\"Número de tarefa inválido.\")\n",
        "\n",
        "def main():\n",
        "    tarefas = []\n",
        "    while True:\n",
        "        print(\"\\n===== Gerenciador de Tarefas =====\")\n",
        "        print(\"1. Adicionar uma nova tarefa\")\n",
        "        print(\"2. Visualizar todas as tarefas\")\n",
        "        print(\"3. Marcar uma tarefa como concluída\")\n",
        "        print(\"4. Remover uma tarefa\")\n",
        "        print(\"5. Sair do programa\")\n",
        "        escolha = input(\"Escolha uma opção: \")\n",
        "\n",
        "        if escolha == \"1\":\n",
        "            nova_tarefa = input(\"Digite a nova tarefa: \")\n",
        "            adicionar_tarefa(tarefas, nova_tarefa)\n",
        "        elif escolha == \"2\":\n",
        "            visualizar_tarefas(tarefas)\n",
        "        elif escolha == \"3\":\n",
        "            numero_tarefa = int(input(\"Digite o número da tarefa a ser marcada como concluída: \"))\n",
        "            marcar_tarefa_concluida(tarefas, numero_tarefa)\n",
        "        elif escolha == \"4\":\n",
        "            numero_tarefa = int(input(\"Digite o número da tarefa a ser removida: \"))\n",
        "            remover_tarefa(tarefas, numero_tarefa)\n",
        "        elif escolha == \"5\":\n",
        "            print(\"Saindo do programa...\")\n",
        "            break\n",
        "        else:\n",
        "            print(\"Opção inválida. Tente novamente.\")\n",
        "\n",
        "if __name__ == \"__main__\":\n",
        "    main()\n"
      ],
      "metadata": {
        "id": "8oExqSgagGzn",
        "colab": {
          "base_uri": "https://localhost:8080/"
        },
        "outputId": "d9fbfe3b-56fe-459c-b1d3-10bcf073678f"
      },
      "execution_count": null,
      "outputs": [
        {
          "output_type": "stream",
          "name": "stdout",
          "text": [
            "\n",
            "===== Gerenciador de Tarefas =====\n",
            "1. Adicionar uma nova tarefa\n",
            "2. Visualizar todas as tarefas\n",
            "3. Marcar uma tarefa como concluída\n",
            "4. Remover uma tarefa\n",
            "5. Sair do programa\n",
            "Escolha uma opção: 1\n",
            "Digite a nova tarefa: fazer imposto de renda\n",
            "\n",
            "===== Gerenciador de Tarefas =====\n",
            "1. Adicionar uma nova tarefa\n",
            "2. Visualizar todas as tarefas\n",
            "3. Marcar uma tarefa como concluída\n",
            "4. Remover uma tarefa\n",
            "5. Sair do programa\n",
            "Escolha uma opção: 2\n",
            "Lista de Tarefas:\n",
            "1. fazer imposto de renda - Pendente\n",
            "\n",
            "===== Gerenciador de Tarefas =====\n",
            "1. Adicionar uma nova tarefa\n",
            "2. Visualizar todas as tarefas\n",
            "3. Marcar uma tarefa como concluída\n",
            "4. Remover uma tarefa\n",
            "5. Sair do programa\n",
            "Escolha uma opção: 3\n",
            "Digite o número da tarefa a ser marcada como concluída: 1\n",
            "Tarefa marcada como concluída.\n",
            "\n",
            "===== Gerenciador de Tarefas =====\n",
            "1. Adicionar uma nova tarefa\n",
            "2. Visualizar todas as tarefas\n",
            "3. Marcar uma tarefa como concluída\n",
            "4. Remover uma tarefa\n",
            "5. Sair do programa\n",
            "Escolha uma opção: 4\n",
            "Digite o número da tarefa a ser removida: 1\n",
            "Tarefa removida com sucesso.\n",
            "\n",
            "===== Gerenciador de Tarefas =====\n",
            "1. Adicionar uma nova tarefa\n",
            "2. Visualizar todas as tarefas\n",
            "3. Marcar uma tarefa como concluída\n",
            "4. Remover uma tarefa\n",
            "5. Sair do programa\n",
            "Escolha uma opção: 5\n",
            "Saindo do programa...\n"
          ]
        }
      ]
    }
  ]
}